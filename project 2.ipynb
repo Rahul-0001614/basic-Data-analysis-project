{
 "cells": [
  {
   "cell_type": "markdown",
   "metadata": {},
   "source": [
    "# ========== Data analysis project ==========="
   ]
  },
  {
   "cell_type": "markdown",
   "metadata": {},
   "source": [
    "## import libraies"
   ]
  },
  {
   "cell_type": "code",
   "execution_count": 1,
   "metadata": {},
   "outputs": [],
   "source": [
    "import pandas as pd\n",
    "import numpy  as np\n",
    "import seaborn as sns\n",
    "import matplotlib.pyplot as plt"
   ]
  },
  {
   "cell_type": "markdown",
   "metadata": {},
   "source": [
    "# import csv files"
   ]
  },
  {
   "cell_type": "markdown",
   "metadata": {},
   "source": [
    "# Dataset 1"
   ]
  },
  {
   "cell_type": "code",
   "execution_count": 2,
   "metadata": {},
   "outputs": [
    {
     "data": {
      "text/html": [
       "<div>\n",
       "<style scoped>\n",
       "    .dataframe tbody tr th:only-of-type {\n",
       "        vertical-align: middle;\n",
       "    }\n",
       "\n",
       "    .dataframe tbody tr th {\n",
       "        vertical-align: top;\n",
       "    }\n",
       "\n",
       "    .dataframe thead th {\n",
       "        text-align: right;\n",
       "    }\n",
       "</style>\n",
       "<table border=\"1\" class=\"dataframe\">\n",
       "  <thead>\n",
       "    <tr style=\"text-align: right;\">\n",
       "      <th></th>\n",
       "      <th>instant</th>\n",
       "      <th>dteday</th>\n",
       "      <th>season</th>\n",
       "      <th>yr</th>\n",
       "      <th>mnth</th>\n",
       "      <th>hr</th>\n",
       "      <th>holiday</th>\n",
       "      <th>weekday</th>\n",
       "      <th>weathersit</th>\n",
       "      <th>temp</th>\n",
       "    </tr>\n",
       "  </thead>\n",
       "  <tbody>\n",
       "    <tr>\n",
       "      <th>0</th>\n",
       "      <td>1</td>\n",
       "      <td>01-01-2011</td>\n",
       "      <td>1</td>\n",
       "      <td>0</td>\n",
       "      <td>1</td>\n",
       "      <td>0</td>\n",
       "      <td>False</td>\n",
       "      <td>6</td>\n",
       "      <td>1</td>\n",
       "      <td>0.24</td>\n",
       "    </tr>\n",
       "    <tr>\n",
       "      <th>1</th>\n",
       "      <td>2</td>\n",
       "      <td>01-01-2011</td>\n",
       "      <td>1</td>\n",
       "      <td>0</td>\n",
       "      <td>1</td>\n",
       "      <td>1</td>\n",
       "      <td>False</td>\n",
       "      <td>6</td>\n",
       "      <td>1</td>\n",
       "      <td>0.22</td>\n",
       "    </tr>\n",
       "    <tr>\n",
       "      <th>2</th>\n",
       "      <td>3</td>\n",
       "      <td>01-01-2011</td>\n",
       "      <td>1</td>\n",
       "      <td>0</td>\n",
       "      <td>1</td>\n",
       "      <td>2</td>\n",
       "      <td>False</td>\n",
       "      <td>6</td>\n",
       "      <td>1</td>\n",
       "      <td>0.22</td>\n",
       "    </tr>\n",
       "    <tr>\n",
       "      <th>3</th>\n",
       "      <td>4</td>\n",
       "      <td>01-01-2011</td>\n",
       "      <td>1</td>\n",
       "      <td>0</td>\n",
       "      <td>1</td>\n",
       "      <td>3</td>\n",
       "      <td>False</td>\n",
       "      <td>6</td>\n",
       "      <td>1</td>\n",
       "      <td>0.24</td>\n",
       "    </tr>\n",
       "    <tr>\n",
       "      <th>4</th>\n",
       "      <td>5</td>\n",
       "      <td>01-01-2011</td>\n",
       "      <td>1</td>\n",
       "      <td>0</td>\n",
       "      <td>1</td>\n",
       "      <td>4</td>\n",
       "      <td>False</td>\n",
       "      <td>6</td>\n",
       "      <td>1</td>\n",
       "      <td>0.24</td>\n",
       "    </tr>\n",
       "    <tr>\n",
       "      <th>...</th>\n",
       "      <td>...</td>\n",
       "      <td>...</td>\n",
       "      <td>...</td>\n",
       "      <td>...</td>\n",
       "      <td>...</td>\n",
       "      <td>...</td>\n",
       "      <td>...</td>\n",
       "      <td>...</td>\n",
       "      <td>...</td>\n",
       "      <td>...</td>\n",
       "    </tr>\n",
       "    <tr>\n",
       "      <th>605</th>\n",
       "      <td>606</td>\n",
       "      <td>28-01-2011</td>\n",
       "      <td>1</td>\n",
       "      <td>0</td>\n",
       "      <td>1</td>\n",
       "      <td>11</td>\n",
       "      <td>False</td>\n",
       "      <td>5</td>\n",
       "      <td>3</td>\n",
       "      <td>0.18</td>\n",
       "    </tr>\n",
       "    <tr>\n",
       "      <th>606</th>\n",
       "      <td>607</td>\n",
       "      <td>28-01-2011</td>\n",
       "      <td>1</td>\n",
       "      <td>0</td>\n",
       "      <td>1</td>\n",
       "      <td>12</td>\n",
       "      <td>False</td>\n",
       "      <td>5</td>\n",
       "      <td>3</td>\n",
       "      <td>0.18</td>\n",
       "    </tr>\n",
       "    <tr>\n",
       "      <th>607</th>\n",
       "      <td>608</td>\n",
       "      <td>28-01-2011</td>\n",
       "      <td>1</td>\n",
       "      <td>0</td>\n",
       "      <td>1</td>\n",
       "      <td>13</td>\n",
       "      <td>False</td>\n",
       "      <td>5</td>\n",
       "      <td>3</td>\n",
       "      <td>0.18</td>\n",
       "    </tr>\n",
       "    <tr>\n",
       "      <th>608</th>\n",
       "      <td>609</td>\n",
       "      <td>28-01-2011</td>\n",
       "      <td>1</td>\n",
       "      <td>0</td>\n",
       "      <td>1</td>\n",
       "      <td>14</td>\n",
       "      <td>False</td>\n",
       "      <td>5</td>\n",
       "      <td>3</td>\n",
       "      <td>0.22</td>\n",
       "    </tr>\n",
       "    <tr>\n",
       "      <th>609</th>\n",
       "      <td>610</td>\n",
       "      <td>28-01-2011</td>\n",
       "      <td>1</td>\n",
       "      <td>0</td>\n",
       "      <td>1</td>\n",
       "      <td>15</td>\n",
       "      <td>False</td>\n",
       "      <td>5</td>\n",
       "      <td>2</td>\n",
       "      <td>0.20</td>\n",
       "    </tr>\n",
       "  </tbody>\n",
       "</table>\n",
       "<p>610 rows × 10 columns</p>\n",
       "</div>"
      ],
      "text/plain": [
       "     instant      dteday  season  yr  mnth  hr  holiday  weekday  weathersit  \\\n",
       "0          1  01-01-2011       1   0     1   0    False        6           1   \n",
       "1          2  01-01-2011       1   0     1   1    False        6           1   \n",
       "2          3  01-01-2011       1   0     1   2    False        6           1   \n",
       "3          4  01-01-2011       1   0     1   3    False        6           1   \n",
       "4          5  01-01-2011       1   0     1   4    False        6           1   \n",
       "..       ...         ...     ...  ..   ...  ..      ...      ...         ...   \n",
       "605      606  28-01-2011       1   0     1  11    False        5           3   \n",
       "606      607  28-01-2011       1   0     1  12    False        5           3   \n",
       "607      608  28-01-2011       1   0     1  13    False        5           3   \n",
       "608      609  28-01-2011       1   0     1  14    False        5           3   \n",
       "609      610  28-01-2011       1   0     1  15    False        5           2   \n",
       "\n",
       "     temp  \n",
       "0    0.24  \n",
       "1    0.22  \n",
       "2    0.22  \n",
       "3    0.24  \n",
       "4    0.24  \n",
       "..    ...  \n",
       "605  0.18  \n",
       "606  0.18  \n",
       "607  0.18  \n",
       "608  0.22  \n",
       "609  0.20  \n",
       "\n",
       "[610 rows x 10 columns]"
      ]
     },
     "execution_count": 2,
     "metadata": {},
     "output_type": "execute_result"
    }
   ],
   "source": [
    "data1 = pd.read_csv(\"C:\\\\Users\\\\HP\\\\Desktop\\\\New folder\\\\d1.csv\")\n",
    "data1"
   ]
  },
  {
   "cell_type": "code",
   "execution_count": 3,
   "metadata": {},
   "outputs": [
    {
     "data": {
      "text/plain": [
       "(610, 10)"
      ]
     },
     "execution_count": 3,
     "metadata": {},
     "output_type": "execute_result"
    }
   ],
   "source": [
    "data1.shape"
   ]
  },
  {
   "cell_type": "code",
   "execution_count": 4,
   "metadata": {},
   "outputs": [
    {
     "data": {
      "text/plain": [
       "0      False\n",
       "1      False\n",
       "2      False\n",
       "3      False\n",
       "4      False\n",
       "       ...  \n",
       "605    False\n",
       "606    False\n",
       "607    False\n",
       "608    False\n",
       "609    False\n",
       "Length: 610, dtype: bool"
      ]
     },
     "execution_count": 4,
     "metadata": {},
     "output_type": "execute_result"
    }
   ],
   "source": [
    "data1.duplicated()"
   ]
  },
  {
   "cell_type": "code",
   "execution_count": 5,
   "metadata": {},
   "outputs": [],
   "source": [
    "data1.drop_duplicates(inplace = True)"
   ]
  },
  {
   "cell_type": "code",
   "execution_count": 6,
   "metadata": {},
   "outputs": [
    {
     "data": {
      "text/plain": [
       "(610, 10)"
      ]
     },
     "execution_count": 6,
     "metadata": {},
     "output_type": "execute_result"
    }
   ],
   "source": [
    "data1.shape"
   ]
  },
  {
   "cell_type": "code",
   "execution_count": 7,
   "metadata": {},
   "outputs": [],
   "source": [
    "data1.rename(columns= {\"dteday\" : 'Date',\n",
    "                        \"yr\" : \"year\",\n",
    "                        \"mnth\" : \"month\",\n",
    "                         \"hr\" : \"hours\",\n",
    "                        \"temp\" : \"temperature1\",\n",
    "                        \"instant\": \"serial no\"},inplace = True)\n"
   ]
  },
  {
   "cell_type": "code",
   "execution_count": 8,
   "metadata": {},
   "outputs": [
    {
     "data": {
      "text/plain": [
       "Index(['serial no', 'Date', 'season', 'year', 'month', 'hours', 'holiday',\n",
       "       'weekday', 'weathersit', 'temperature1'],\n",
       "      dtype='object')"
      ]
     },
     "execution_count": 8,
     "metadata": {},
     "output_type": "execute_result"
    }
   ],
   "source": [
    "data1.columns\n"
   ]
  },
  {
   "cell_type": "code",
   "execution_count": 9,
   "metadata": {},
   "outputs": [],
   "source": [
    "# datatype changed in date columns \n",
    "\n",
    "data1[\"Date\"] = data1[\"Date\"].astype(\"datetime64[ns]\")"
   ]
  },
  {
   "cell_type": "code",
   "execution_count": 10,
   "metadata": {},
   "outputs": [
    {
     "name": "stdout",
     "output_type": "stream",
     "text": [
      "<class 'pandas.core.frame.DataFrame'>\n",
      "RangeIndex: 610 entries, 0 to 609\n",
      "Data columns (total 10 columns):\n",
      " #   Column        Non-Null Count  Dtype         \n",
      "---  ------        --------------  -----         \n",
      " 0   serial no     610 non-null    int64         \n",
      " 1   Date          610 non-null    datetime64[ns]\n",
      " 2   season        610 non-null    int64         \n",
      " 3   year          610 non-null    int64         \n",
      " 4   month         610 non-null    int64         \n",
      " 5   hours         610 non-null    int64         \n",
      " 6   holiday       610 non-null    bool          \n",
      " 7   weekday       610 non-null    int64         \n",
      " 8   weathersit    610 non-null    int64         \n",
      " 9   temperature1  610 non-null    float64       \n",
      "dtypes: bool(1), datetime64[ns](1), float64(1), int64(7)\n",
      "memory usage: 43.6 KB\n"
     ]
    }
   ],
   "source": [
    "data1.info()"
   ]
  },
  {
   "cell_type": "code",
   "execution_count": 11,
   "metadata": {},
   "outputs": [
    {
     "data": {
      "text/plain": [
       "['serial no', 'season', 'year', 'month', 'hours', 'weekday', 'weathersit']"
      ]
     },
     "execution_count": 11,
     "metadata": {},
     "output_type": "execute_result"
    }
   ],
   "source": [
    "# find data types in list\n",
    "\n",
    "data1.select_dtypes(include = \"int64\").columns.tolist()\n"
   ]
  },
  {
   "cell_type": "code",
   "execution_count": 12,
   "metadata": {},
   "outputs": [
    {
     "data": {
      "text/plain": [
       "['Date', 'holiday', 'temperature1']"
      ]
     },
     "execution_count": 12,
     "metadata": {},
     "output_type": "execute_result"
    }
   ],
   "source": [
    "data1.select_dtypes(exclude = \"int64\").columns.tolist()"
   ]
  },
  {
   "cell_type": "code",
   "execution_count": 13,
   "metadata": {},
   "outputs": [
    {
     "data": {
      "text/plain": [
       "serial no     610\n",
       "season          1\n",
       "year            1\n",
       "month           1\n",
       "hours          24\n",
       "weekday         7\n",
       "weathersit      4\n",
       "dtype: int64"
      ]
     },
     "execution_count": 13,
     "metadata": {},
     "output_type": "execute_result"
    }
   ],
   "source": [
    "data1.select_dtypes(include = \"int64\").nunique()"
   ]
  },
  {
   "cell_type": "code",
   "execution_count": 14,
   "metadata": {},
   "outputs": [
    {
     "data": {
      "text/plain": [
       "Date            28\n",
       "holiday          2\n",
       "temperature1    23\n",
       "dtype: int64"
      ]
     },
     "execution_count": 14,
     "metadata": {},
     "output_type": "execute_result"
    }
   ],
   "source": [
    "data1.select_dtypes(exclude = \"int64\").nunique()"
   ]
  },
  {
   "cell_type": "code",
   "execution_count": 15,
   "metadata": {},
   "outputs": [
    {
     "data": {
      "text/plain": [
       "<DatetimeArray>\n",
       "['2011-01-01 00:00:00', '2011-02-01 00:00:00', '2011-03-01 00:00:00',\n",
       " '2011-04-01 00:00:00', '2011-05-01 00:00:00', '2011-06-01 00:00:00',\n",
       " '2011-07-01 00:00:00', '2011-08-01 00:00:00', '2011-09-01 00:00:00',\n",
       " '2011-10-01 00:00:00', '2011-11-01 00:00:00', '2011-12-01 00:00:00',\n",
       " '2011-01-13 00:00:00', '2011-01-14 00:00:00', '2011-01-15 00:00:00',\n",
       " '2011-01-16 00:00:00', '2011-01-17 00:00:00', '2011-01-18 00:00:00',\n",
       " '2011-01-19 00:00:00', '2011-01-20 00:00:00', '2011-01-21 00:00:00',\n",
       " '2011-01-22 00:00:00', '2011-01-23 00:00:00', '2011-01-24 00:00:00',\n",
       " '2011-01-25 00:00:00', '2011-01-26 00:00:00', '2011-01-27 00:00:00',\n",
       " '2011-01-28 00:00:00']\n",
       "Length: 28, dtype: datetime64[ns]"
      ]
     },
     "execution_count": 15,
     "metadata": {},
     "output_type": "execute_result"
    }
   ],
   "source": [
    "data1[\"Date\"].unique()"
   ]
  },
  {
   "cell_type": "code",
   "execution_count": 16,
   "metadata": {},
   "outputs": [
    {
     "data": {
      "text/html": [
       "<div>\n",
       "<style scoped>\n",
       "    .dataframe tbody tr th:only-of-type {\n",
       "        vertical-align: middle;\n",
       "    }\n",
       "\n",
       "    .dataframe tbody tr th {\n",
       "        vertical-align: top;\n",
       "    }\n",
       "\n",
       "    .dataframe thead th {\n",
       "        text-align: right;\n",
       "    }\n",
       "</style>\n",
       "<table border=\"1\" class=\"dataframe\">\n",
       "  <thead>\n",
       "    <tr style=\"text-align: right;\">\n",
       "      <th></th>\n",
       "      <th>season</th>\n",
       "      <th>year</th>\n",
       "      <th>month</th>\n",
       "    </tr>\n",
       "  </thead>\n",
       "  <tbody>\n",
       "    <tr>\n",
       "      <th>0</th>\n",
       "      <td>1</td>\n",
       "      <td>0</td>\n",
       "      <td>1</td>\n",
       "    </tr>\n",
       "  </tbody>\n",
       "</table>\n",
       "</div>"
      ],
      "text/plain": [
       "   season  year  month\n",
       "0       1     0      1"
      ]
     },
     "execution_count": 16,
     "metadata": {},
     "output_type": "execute_result"
    }
   ],
   "source": [
    "data1[[\"season\",\"year\",\"month\"]].drop_duplicates()"
   ]
  },
  {
   "cell_type": "code",
   "execution_count": 17,
   "metadata": {},
   "outputs": [
    {
     "data": {
      "text/plain": [
       "0      1\n",
       "5      2\n",
       "18     3\n",
       "585    4\n",
       "Name: weathersit, dtype: int64"
      ]
     },
     "execution_count": 17,
     "metadata": {},
     "output_type": "execute_result"
    }
   ],
   "source": [
    "data1[\"weathersit\"].drop_duplicates()"
   ]
  },
  {
   "cell_type": "code",
   "execution_count": 18,
   "metadata": {},
   "outputs": [],
   "source": [
    "# drop unnecessary columns in dataset1\n",
    "\n",
    "data1.drop(columns = [\"season\",\"year\",\"month\"],axis= 1,inplace = True)"
   ]
  },
  {
   "cell_type": "code",
   "execution_count": 19,
   "metadata": {},
   "outputs": [
    {
     "data": {
      "text/html": [
       "<div>\n",
       "<style scoped>\n",
       "    .dataframe tbody tr th:only-of-type {\n",
       "        vertical-align: middle;\n",
       "    }\n",
       "\n",
       "    .dataframe tbody tr th {\n",
       "        vertical-align: top;\n",
       "    }\n",
       "\n",
       "    .dataframe thead th {\n",
       "        text-align: right;\n",
       "    }\n",
       "</style>\n",
       "<table border=\"1\" class=\"dataframe\">\n",
       "  <thead>\n",
       "    <tr style=\"text-align: right;\">\n",
       "      <th></th>\n",
       "      <th>serial no</th>\n",
       "      <th>Date</th>\n",
       "      <th>hours</th>\n",
       "      <th>holiday</th>\n",
       "      <th>weekday</th>\n",
       "      <th>weathersit</th>\n",
       "      <th>temperature1</th>\n",
       "    </tr>\n",
       "  </thead>\n",
       "  <tbody>\n",
       "    <tr>\n",
       "      <th>0</th>\n",
       "      <td>1</td>\n",
       "      <td>2011-01-01</td>\n",
       "      <td>0</td>\n",
       "      <td>False</td>\n",
       "      <td>6</td>\n",
       "      <td>1</td>\n",
       "      <td>0.24</td>\n",
       "    </tr>\n",
       "    <tr>\n",
       "      <th>1</th>\n",
       "      <td>2</td>\n",
       "      <td>2011-01-01</td>\n",
       "      <td>1</td>\n",
       "      <td>False</td>\n",
       "      <td>6</td>\n",
       "      <td>1</td>\n",
       "      <td>0.22</td>\n",
       "    </tr>\n",
       "    <tr>\n",
       "      <th>2</th>\n",
       "      <td>3</td>\n",
       "      <td>2011-01-01</td>\n",
       "      <td>2</td>\n",
       "      <td>False</td>\n",
       "      <td>6</td>\n",
       "      <td>1</td>\n",
       "      <td>0.22</td>\n",
       "    </tr>\n",
       "    <tr>\n",
       "      <th>3</th>\n",
       "      <td>4</td>\n",
       "      <td>2011-01-01</td>\n",
       "      <td>3</td>\n",
       "      <td>False</td>\n",
       "      <td>6</td>\n",
       "      <td>1</td>\n",
       "      <td>0.24</td>\n",
       "    </tr>\n",
       "    <tr>\n",
       "      <th>4</th>\n",
       "      <td>5</td>\n",
       "      <td>2011-01-01</td>\n",
       "      <td>4</td>\n",
       "      <td>False</td>\n",
       "      <td>6</td>\n",
       "      <td>1</td>\n",
       "      <td>0.24</td>\n",
       "    </tr>\n",
       "    <tr>\n",
       "      <th>...</th>\n",
       "      <td>...</td>\n",
       "      <td>...</td>\n",
       "      <td>...</td>\n",
       "      <td>...</td>\n",
       "      <td>...</td>\n",
       "      <td>...</td>\n",
       "      <td>...</td>\n",
       "    </tr>\n",
       "    <tr>\n",
       "      <th>605</th>\n",
       "      <td>606</td>\n",
       "      <td>2011-01-28</td>\n",
       "      <td>11</td>\n",
       "      <td>False</td>\n",
       "      <td>5</td>\n",
       "      <td>3</td>\n",
       "      <td>0.18</td>\n",
       "    </tr>\n",
       "    <tr>\n",
       "      <th>606</th>\n",
       "      <td>607</td>\n",
       "      <td>2011-01-28</td>\n",
       "      <td>12</td>\n",
       "      <td>False</td>\n",
       "      <td>5</td>\n",
       "      <td>3</td>\n",
       "      <td>0.18</td>\n",
       "    </tr>\n",
       "    <tr>\n",
       "      <th>607</th>\n",
       "      <td>608</td>\n",
       "      <td>2011-01-28</td>\n",
       "      <td>13</td>\n",
       "      <td>False</td>\n",
       "      <td>5</td>\n",
       "      <td>3</td>\n",
       "      <td>0.18</td>\n",
       "    </tr>\n",
       "    <tr>\n",
       "      <th>608</th>\n",
       "      <td>609</td>\n",
       "      <td>2011-01-28</td>\n",
       "      <td>14</td>\n",
       "      <td>False</td>\n",
       "      <td>5</td>\n",
       "      <td>3</td>\n",
       "      <td>0.22</td>\n",
       "    </tr>\n",
       "    <tr>\n",
       "      <th>609</th>\n",
       "      <td>610</td>\n",
       "      <td>2011-01-28</td>\n",
       "      <td>15</td>\n",
       "      <td>False</td>\n",
       "      <td>5</td>\n",
       "      <td>2</td>\n",
       "      <td>0.20</td>\n",
       "    </tr>\n",
       "  </tbody>\n",
       "</table>\n",
       "<p>610 rows × 7 columns</p>\n",
       "</div>"
      ],
      "text/plain": [
       "     serial no       Date  hours  holiday  weekday  weathersit  temperature1\n",
       "0            1 2011-01-01      0    False        6           1          0.24\n",
       "1            2 2011-01-01      1    False        6           1          0.22\n",
       "2            3 2011-01-01      2    False        6           1          0.22\n",
       "3            4 2011-01-01      3    False        6           1          0.24\n",
       "4            5 2011-01-01      4    False        6           1          0.24\n",
       "..         ...        ...    ...      ...      ...         ...           ...\n",
       "605        606 2011-01-28     11    False        5           3          0.18\n",
       "606        607 2011-01-28     12    False        5           3          0.18\n",
       "607        608 2011-01-28     13    False        5           3          0.18\n",
       "608        609 2011-01-28     14    False        5           3          0.22\n",
       "609        610 2011-01-28     15    False        5           2          0.20\n",
       "\n",
       "[610 rows x 7 columns]"
      ]
     },
     "execution_count": 19,
     "metadata": {},
     "output_type": "execute_result"
    }
   ],
   "source": [
    "data1"
   ]
  },
  {
   "cell_type": "markdown",
   "metadata": {},
   "source": [
    "# Dataset 2"
   ]
  },
  {
   "cell_type": "code",
   "execution_count": 20,
   "metadata": {},
   "outputs": [
    {
     "data": {
      "text/html": [
       "<div>\n",
       "<style scoped>\n",
       "    .dataframe tbody tr th:only-of-type {\n",
       "        vertical-align: middle;\n",
       "    }\n",
       "\n",
       "    .dataframe tbody tr th {\n",
       "        vertical-align: top;\n",
       "    }\n",
       "\n",
       "    .dataframe thead th {\n",
       "        text-align: right;\n",
       "    }\n",
       "</style>\n",
       "<table border=\"1\" class=\"dataframe\">\n",
       "  <thead>\n",
       "    <tr style=\"text-align: right;\">\n",
       "      <th></th>\n",
       "      <th>Unnamed: 0</th>\n",
       "      <th>instant</th>\n",
       "      <th>atemp</th>\n",
       "      <th>hum</th>\n",
       "      <th>windspeed</th>\n",
       "      <th>casual</th>\n",
       "      <th>registered</th>\n",
       "      <th>cnt</th>\n",
       "    </tr>\n",
       "  </thead>\n",
       "  <tbody>\n",
       "    <tr>\n",
       "      <th>0</th>\n",
       "      <td>0</td>\n",
       "      <td>1</td>\n",
       "      <td>0.2879</td>\n",
       "      <td>0.81</td>\n",
       "      <td>0.0000</td>\n",
       "      <td>3</td>\n",
       "      <td>13</td>\n",
       "      <td>16</td>\n",
       "    </tr>\n",
       "    <tr>\n",
       "      <th>1</th>\n",
       "      <td>1</td>\n",
       "      <td>2</td>\n",
       "      <td>0.2727</td>\n",
       "      <td>0.80</td>\n",
       "      <td>0.0000</td>\n",
       "      <td>8</td>\n",
       "      <td>32</td>\n",
       "      <td>40</td>\n",
       "    </tr>\n",
       "    <tr>\n",
       "      <th>2</th>\n",
       "      <td>2</td>\n",
       "      <td>3</td>\n",
       "      <td>0.2727</td>\n",
       "      <td>0.80</td>\n",
       "      <td>0.0000</td>\n",
       "      <td>5</td>\n",
       "      <td>27</td>\n",
       "      <td>32</td>\n",
       "    </tr>\n",
       "    <tr>\n",
       "      <th>3</th>\n",
       "      <td>3</td>\n",
       "      <td>4</td>\n",
       "      <td>0.2879</td>\n",
       "      <td>0.75</td>\n",
       "      <td>0.0000</td>\n",
       "      <td>3</td>\n",
       "      <td>10</td>\n",
       "      <td>13</td>\n",
       "    </tr>\n",
       "    <tr>\n",
       "      <th>4</th>\n",
       "      <td>4</td>\n",
       "      <td>5</td>\n",
       "      <td>0.2879</td>\n",
       "      <td>0.75</td>\n",
       "      <td>0.0000</td>\n",
       "      <td>0</td>\n",
       "      <td>1</td>\n",
       "      <td>1</td>\n",
       "    </tr>\n",
       "    <tr>\n",
       "      <th>...</th>\n",
       "      <td>...</td>\n",
       "      <td>...</td>\n",
       "      <td>...</td>\n",
       "      <td>...</td>\n",
       "      <td>...</td>\n",
       "      <td>...</td>\n",
       "      <td>...</td>\n",
       "      <td>...</td>\n",
       "    </tr>\n",
       "    <tr>\n",
       "      <th>605</th>\n",
       "      <td>605</td>\n",
       "      <td>606</td>\n",
       "      <td>0.2121</td>\n",
       "      <td>0.93</td>\n",
       "      <td>0.1045</td>\n",
       "      <td>0</td>\n",
       "      <td>30</td>\n",
       "      <td>30</td>\n",
       "    </tr>\n",
       "    <tr>\n",
       "      <th>606</th>\n",
       "      <td>606</td>\n",
       "      <td>607</td>\n",
       "      <td>0.2121</td>\n",
       "      <td>0.93</td>\n",
       "      <td>0.1045</td>\n",
       "      <td>1</td>\n",
       "      <td>28</td>\n",
       "      <td>29</td>\n",
       "    </tr>\n",
       "    <tr>\n",
       "      <th>607</th>\n",
       "      <td>607</td>\n",
       "      <td>608</td>\n",
       "      <td>0.2121</td>\n",
       "      <td>0.93</td>\n",
       "      <td>0.1045</td>\n",
       "      <td>0</td>\n",
       "      <td>31</td>\n",
       "      <td>31</td>\n",
       "    </tr>\n",
       "    <tr>\n",
       "      <th>608</th>\n",
       "      <td>608</td>\n",
       "      <td>609</td>\n",
       "      <td>0.2727</td>\n",
       "      <td>0.80</td>\n",
       "      <td>0.0000</td>\n",
       "      <td>2</td>\n",
       "      <td>36</td>\n",
       "      <td>38</td>\n",
       "    </tr>\n",
       "    <tr>\n",
       "      <th>609</th>\n",
       "      <td>609</td>\n",
       "      <td>610</td>\n",
       "      <td>0.2576</td>\n",
       "      <td>0.86</td>\n",
       "      <td>0.0000</td>\n",
       "      <td>1</td>\n",
       "      <td>40</td>\n",
       "      <td>41</td>\n",
       "    </tr>\n",
       "  </tbody>\n",
       "</table>\n",
       "<p>610 rows × 8 columns</p>\n",
       "</div>"
      ],
      "text/plain": [
       "     Unnamed: 0  instant   atemp   hum  windspeed  casual  registered  cnt\n",
       "0             0        1  0.2879  0.81     0.0000       3          13   16\n",
       "1             1        2  0.2727  0.80     0.0000       8          32   40\n",
       "2             2        3  0.2727  0.80     0.0000       5          27   32\n",
       "3             3        4  0.2879  0.75     0.0000       3          10   13\n",
       "4             4        5  0.2879  0.75     0.0000       0           1    1\n",
       "..          ...      ...     ...   ...        ...     ...         ...  ...\n",
       "605         605      606  0.2121  0.93     0.1045       0          30   30\n",
       "606         606      607  0.2121  0.93     0.1045       1          28   29\n",
       "607         607      608  0.2121  0.93     0.1045       0          31   31\n",
       "608         608      609  0.2727  0.80     0.0000       2          36   38\n",
       "609         609      610  0.2576  0.86     0.0000       1          40   41\n",
       "\n",
       "[610 rows x 8 columns]"
      ]
     },
     "execution_count": 20,
     "metadata": {},
     "output_type": "execute_result"
    }
   ],
   "source": [
    "data2 = pd.read_csv(\"C:\\\\Users\\\\HP\\\\Desktop\\\\New folder\\\\d2.csv\")\n",
    "data2"
   ]
  },
  {
   "cell_type": "code",
   "execution_count": 21,
   "metadata": {},
   "outputs": [
    {
     "data": {
      "text/plain": [
       "(610, 8)"
      ]
     },
     "execution_count": 21,
     "metadata": {},
     "output_type": "execute_result"
    }
   ],
   "source": [
    "data2.shape"
   ]
  },
  {
   "cell_type": "code",
   "execution_count": 22,
   "metadata": {},
   "outputs": [
    {
     "data": {
      "text/plain": [
       "0      False\n",
       "1      False\n",
       "2      False\n",
       "3      False\n",
       "4      False\n",
       "       ...  \n",
       "605    False\n",
       "606    False\n",
       "607    False\n",
       "608    False\n",
       "609    False\n",
       "Length: 610, dtype: bool"
      ]
     },
     "execution_count": 22,
     "metadata": {},
     "output_type": "execute_result"
    }
   ],
   "source": [
    "data2.duplicated()"
   ]
  },
  {
   "cell_type": "code",
   "execution_count": 23,
   "metadata": {},
   "outputs": [
    {
     "data": {
      "text/html": [
       "<div>\n",
       "<style scoped>\n",
       "    .dataframe tbody tr th:only-of-type {\n",
       "        vertical-align: middle;\n",
       "    }\n",
       "\n",
       "    .dataframe tbody tr th {\n",
       "        vertical-align: top;\n",
       "    }\n",
       "\n",
       "    .dataframe thead th {\n",
       "        text-align: right;\n",
       "    }\n",
       "</style>\n",
       "<table border=\"1\" class=\"dataframe\">\n",
       "  <thead>\n",
       "    <tr style=\"text-align: right;\">\n",
       "      <th></th>\n",
       "      <th>Unnamed: 0</th>\n",
       "      <th>instant</th>\n",
       "      <th>atemp</th>\n",
       "      <th>hum</th>\n",
       "      <th>windspeed</th>\n",
       "      <th>casual</th>\n",
       "      <th>registered</th>\n",
       "      <th>cnt</th>\n",
       "    </tr>\n",
       "  </thead>\n",
       "  <tbody>\n",
       "    <tr>\n",
       "      <th>0</th>\n",
       "      <td>0</td>\n",
       "      <td>1</td>\n",
       "      <td>0.2879</td>\n",
       "      <td>0.81</td>\n",
       "      <td>0.0000</td>\n",
       "      <td>3</td>\n",
       "      <td>13</td>\n",
       "      <td>16</td>\n",
       "    </tr>\n",
       "    <tr>\n",
       "      <th>1</th>\n",
       "      <td>1</td>\n",
       "      <td>2</td>\n",
       "      <td>0.2727</td>\n",
       "      <td>0.80</td>\n",
       "      <td>0.0000</td>\n",
       "      <td>8</td>\n",
       "      <td>32</td>\n",
       "      <td>40</td>\n",
       "    </tr>\n",
       "    <tr>\n",
       "      <th>2</th>\n",
       "      <td>2</td>\n",
       "      <td>3</td>\n",
       "      <td>0.2727</td>\n",
       "      <td>0.80</td>\n",
       "      <td>0.0000</td>\n",
       "      <td>5</td>\n",
       "      <td>27</td>\n",
       "      <td>32</td>\n",
       "    </tr>\n",
       "    <tr>\n",
       "      <th>3</th>\n",
       "      <td>3</td>\n",
       "      <td>4</td>\n",
       "      <td>0.2879</td>\n",
       "      <td>0.75</td>\n",
       "      <td>0.0000</td>\n",
       "      <td>3</td>\n",
       "      <td>10</td>\n",
       "      <td>13</td>\n",
       "    </tr>\n",
       "    <tr>\n",
       "      <th>4</th>\n",
       "      <td>4</td>\n",
       "      <td>5</td>\n",
       "      <td>0.2879</td>\n",
       "      <td>0.75</td>\n",
       "      <td>0.0000</td>\n",
       "      <td>0</td>\n",
       "      <td>1</td>\n",
       "      <td>1</td>\n",
       "    </tr>\n",
       "    <tr>\n",
       "      <th>...</th>\n",
       "      <td>...</td>\n",
       "      <td>...</td>\n",
       "      <td>...</td>\n",
       "      <td>...</td>\n",
       "      <td>...</td>\n",
       "      <td>...</td>\n",
       "      <td>...</td>\n",
       "      <td>...</td>\n",
       "    </tr>\n",
       "    <tr>\n",
       "      <th>605</th>\n",
       "      <td>605</td>\n",
       "      <td>606</td>\n",
       "      <td>0.2121</td>\n",
       "      <td>0.93</td>\n",
       "      <td>0.1045</td>\n",
       "      <td>0</td>\n",
       "      <td>30</td>\n",
       "      <td>30</td>\n",
       "    </tr>\n",
       "    <tr>\n",
       "      <th>606</th>\n",
       "      <td>606</td>\n",
       "      <td>607</td>\n",
       "      <td>0.2121</td>\n",
       "      <td>0.93</td>\n",
       "      <td>0.1045</td>\n",
       "      <td>1</td>\n",
       "      <td>28</td>\n",
       "      <td>29</td>\n",
       "    </tr>\n",
       "    <tr>\n",
       "      <th>607</th>\n",
       "      <td>607</td>\n",
       "      <td>608</td>\n",
       "      <td>0.2121</td>\n",
       "      <td>0.93</td>\n",
       "      <td>0.1045</td>\n",
       "      <td>0</td>\n",
       "      <td>31</td>\n",
       "      <td>31</td>\n",
       "    </tr>\n",
       "    <tr>\n",
       "      <th>608</th>\n",
       "      <td>608</td>\n",
       "      <td>609</td>\n",
       "      <td>0.2727</td>\n",
       "      <td>0.80</td>\n",
       "      <td>0.0000</td>\n",
       "      <td>2</td>\n",
       "      <td>36</td>\n",
       "      <td>38</td>\n",
       "    </tr>\n",
       "    <tr>\n",
       "      <th>609</th>\n",
       "      <td>609</td>\n",
       "      <td>610</td>\n",
       "      <td>0.2576</td>\n",
       "      <td>0.86</td>\n",
       "      <td>0.0000</td>\n",
       "      <td>1</td>\n",
       "      <td>40</td>\n",
       "      <td>41</td>\n",
       "    </tr>\n",
       "  </tbody>\n",
       "</table>\n",
       "<p>610 rows × 8 columns</p>\n",
       "</div>"
      ],
      "text/plain": [
       "     Unnamed: 0  instant   atemp   hum  windspeed  casual  registered  cnt\n",
       "0             0        1  0.2879  0.81     0.0000       3          13   16\n",
       "1             1        2  0.2727  0.80     0.0000       8          32   40\n",
       "2             2        3  0.2727  0.80     0.0000       5          27   32\n",
       "3             3        4  0.2879  0.75     0.0000       3          10   13\n",
       "4             4        5  0.2879  0.75     0.0000       0           1    1\n",
       "..          ...      ...     ...   ...        ...     ...         ...  ...\n",
       "605         605      606  0.2121  0.93     0.1045       0          30   30\n",
       "606         606      607  0.2121  0.93     0.1045       1          28   29\n",
       "607         607      608  0.2121  0.93     0.1045       0          31   31\n",
       "608         608      609  0.2727  0.80     0.0000       2          36   38\n",
       "609         609      610  0.2576  0.86     0.0000       1          40   41\n",
       "\n",
       "[610 rows x 8 columns]"
      ]
     },
     "execution_count": 23,
     "metadata": {},
     "output_type": "execute_result"
    }
   ],
   "source": [
    "data2.drop_duplicates( inplace = True)\n",
    "data2\n"
   ]
  },
  {
   "cell_type": "code",
   "execution_count": 24,
   "metadata": {},
   "outputs": [
    {
     "data": {
      "text/plain": [
       "(610, 8)"
      ]
     },
     "execution_count": 24,
     "metadata": {},
     "output_type": "execute_result"
    }
   ],
   "source": [
    "data2.shape"
   ]
  },
  {
   "cell_type": "code",
   "execution_count": 25,
   "metadata": {},
   "outputs": [],
   "source": [
    "# drop unnecessary columns in dataset2  \n",
    "\n",
    "data2.drop( columns = [\"Unnamed: 0\",\"instant\",\"cnt\"],axis = 1,inplace = True)"
   ]
  },
  {
   "cell_type": "code",
   "execution_count": 26,
   "metadata": {},
   "outputs": [],
   "source": [
    "data2.rename (columns = {\"atemp\" : \"temperature\",\n",
    "                          \"hum\" : \"humidity\"},inplace = True)"
   ]
  },
  {
   "cell_type": "code",
   "execution_count": 27,
   "metadata": {},
   "outputs": [
    {
     "data": {
      "text/html": [
       "<div>\n",
       "<style scoped>\n",
       "    .dataframe tbody tr th:only-of-type {\n",
       "        vertical-align: middle;\n",
       "    }\n",
       "\n",
       "    .dataframe tbody tr th {\n",
       "        vertical-align: top;\n",
       "    }\n",
       "\n",
       "    .dataframe thead th {\n",
       "        text-align: right;\n",
       "    }\n",
       "</style>\n",
       "<table border=\"1\" class=\"dataframe\">\n",
       "  <thead>\n",
       "    <tr style=\"text-align: right;\">\n",
       "      <th></th>\n",
       "      <th>temperature</th>\n",
       "      <th>humidity</th>\n",
       "      <th>windspeed</th>\n",
       "      <th>casual</th>\n",
       "      <th>registered</th>\n",
       "    </tr>\n",
       "  </thead>\n",
       "  <tbody>\n",
       "    <tr>\n",
       "      <th>0</th>\n",
       "      <td>0.2879</td>\n",
       "      <td>0.81</td>\n",
       "      <td>0.0000</td>\n",
       "      <td>3</td>\n",
       "      <td>13</td>\n",
       "    </tr>\n",
       "    <tr>\n",
       "      <th>1</th>\n",
       "      <td>0.2727</td>\n",
       "      <td>0.80</td>\n",
       "      <td>0.0000</td>\n",
       "      <td>8</td>\n",
       "      <td>32</td>\n",
       "    </tr>\n",
       "    <tr>\n",
       "      <th>2</th>\n",
       "      <td>0.2727</td>\n",
       "      <td>0.80</td>\n",
       "      <td>0.0000</td>\n",
       "      <td>5</td>\n",
       "      <td>27</td>\n",
       "    </tr>\n",
       "    <tr>\n",
       "      <th>3</th>\n",
       "      <td>0.2879</td>\n",
       "      <td>0.75</td>\n",
       "      <td>0.0000</td>\n",
       "      <td>3</td>\n",
       "      <td>10</td>\n",
       "    </tr>\n",
       "    <tr>\n",
       "      <th>4</th>\n",
       "      <td>0.2879</td>\n",
       "      <td>0.75</td>\n",
       "      <td>0.0000</td>\n",
       "      <td>0</td>\n",
       "      <td>1</td>\n",
       "    </tr>\n",
       "    <tr>\n",
       "      <th>...</th>\n",
       "      <td>...</td>\n",
       "      <td>...</td>\n",
       "      <td>...</td>\n",
       "      <td>...</td>\n",
       "      <td>...</td>\n",
       "    </tr>\n",
       "    <tr>\n",
       "      <th>605</th>\n",
       "      <td>0.2121</td>\n",
       "      <td>0.93</td>\n",
       "      <td>0.1045</td>\n",
       "      <td>0</td>\n",
       "      <td>30</td>\n",
       "    </tr>\n",
       "    <tr>\n",
       "      <th>606</th>\n",
       "      <td>0.2121</td>\n",
       "      <td>0.93</td>\n",
       "      <td>0.1045</td>\n",
       "      <td>1</td>\n",
       "      <td>28</td>\n",
       "    </tr>\n",
       "    <tr>\n",
       "      <th>607</th>\n",
       "      <td>0.2121</td>\n",
       "      <td>0.93</td>\n",
       "      <td>0.1045</td>\n",
       "      <td>0</td>\n",
       "      <td>31</td>\n",
       "    </tr>\n",
       "    <tr>\n",
       "      <th>608</th>\n",
       "      <td>0.2727</td>\n",
       "      <td>0.80</td>\n",
       "      <td>0.0000</td>\n",
       "      <td>2</td>\n",
       "      <td>36</td>\n",
       "    </tr>\n",
       "    <tr>\n",
       "      <th>609</th>\n",
       "      <td>0.2576</td>\n",
       "      <td>0.86</td>\n",
       "      <td>0.0000</td>\n",
       "      <td>1</td>\n",
       "      <td>40</td>\n",
       "    </tr>\n",
       "  </tbody>\n",
       "</table>\n",
       "<p>610 rows × 5 columns</p>\n",
       "</div>"
      ],
      "text/plain": [
       "     temperature  humidity  windspeed  casual  registered\n",
       "0         0.2879      0.81     0.0000       3          13\n",
       "1         0.2727      0.80     0.0000       8          32\n",
       "2         0.2727      0.80     0.0000       5          27\n",
       "3         0.2879      0.75     0.0000       3          10\n",
       "4         0.2879      0.75     0.0000       0           1\n",
       "..           ...       ...        ...     ...         ...\n",
       "605       0.2121      0.93     0.1045       0          30\n",
       "606       0.2121      0.93     0.1045       1          28\n",
       "607       0.2121      0.93     0.1045       0          31\n",
       "608       0.2727      0.80     0.0000       2          36\n",
       "609       0.2576      0.86     0.0000       1          40\n",
       "\n",
       "[610 rows x 5 columns]"
      ]
     },
     "execution_count": 27,
     "metadata": {},
     "output_type": "execute_result"
    }
   ],
   "source": [
    "data2"
   ]
  },
  {
   "cell_type": "code",
   "execution_count": 28,
   "metadata": {},
   "outputs": [
    {
     "name": "stdout",
     "output_type": "stream",
     "text": [
      "<class 'pandas.core.frame.DataFrame'>\n",
      "RangeIndex: 610 entries, 0 to 609\n",
      "Data columns (total 5 columns):\n",
      " #   Column       Non-Null Count  Dtype  \n",
      "---  ------       --------------  -----  \n",
      " 0   temperature  599 non-null    float64\n",
      " 1   humidity     610 non-null    float64\n",
      " 2   windspeed    610 non-null    float64\n",
      " 3   casual       610 non-null    int64  \n",
      " 4   registered   610 non-null    int64  \n",
      "dtypes: float64(3), int64(2)\n",
      "memory usage: 24.0 KB\n"
     ]
    }
   ],
   "source": [
    "data2.info()"
   ]
  },
  {
   "cell_type": "markdown",
   "metadata": {},
   "source": [
    "# Data cleaning"
   ]
  },
  {
   "cell_type": "code",
   "execution_count": 29,
   "metadata": {},
   "outputs": [],
   "source": [
    "import warnings\n",
    "warnings.simplefilter(action=\"ignore\",category=FutureWarning)"
   ]
  },
  {
   "cell_type": "code",
   "execution_count": 30,
   "metadata": {},
   "outputs": [
    {
     "data": {
      "text/plain": [
       "['serial no',\n",
       " 'Date',\n",
       " 'hours',\n",
       " 'holiday',\n",
       " 'weekday',\n",
       " 'weathersit',\n",
       " 'temperature1']"
      ]
     },
     "execution_count": 30,
     "metadata": {},
     "output_type": "execute_result"
    }
   ],
   "source": [
    "data1.columns.tolist()"
   ]
  },
  {
   "cell_type": "code",
   "execution_count": 31,
   "metadata": {},
   "outputs": [
    {
     "data": {
      "text/plain": [
       "['temperature', 'humidity', 'windspeed', 'casual', 'registered']"
      ]
     },
     "execution_count": 31,
     "metadata": {},
     "output_type": "execute_result"
    }
   ],
   "source": [
    "data2.columns.tolist()   "
   ]
  },
  {
   "cell_type": "code",
   "execution_count": 32,
   "metadata": {},
   "outputs": [
    {
     "name": "stdout",
     "output_type": "stream",
     "text": [
      "shape of data1 : (610, 7)\n",
      "shape of data2 : (610, 5)\n"
     ]
    }
   ],
   "source": [
    "print(f'shape of data1 : {data1.shape}')\n",
    "print(f'shape of data2 : {data2.shape}')"
   ]
  },
  {
   "cell_type": "code",
   "execution_count": 33,
   "metadata": {},
   "outputs": [
    {
     "data": {
      "text/plain": [
       "serial no       0\n",
       "Date            0\n",
       "hours           0\n",
       "holiday         0\n",
       "weekday         0\n",
       "weathersit      0\n",
       "temperature1    0\n",
       "dtype: int64"
      ]
     },
     "execution_count": 33,
     "metadata": {},
     "output_type": "execute_result"
    }
   ],
   "source": [
    "# find null value in data set 1\n",
    "\n",
    "data1.isnull().sum()"
   ]
  },
  {
   "cell_type": "code",
   "execution_count": 34,
   "metadata": {},
   "outputs": [
    {
     "data": {
      "text/plain": [
       "temperature    11\n",
       "humidity        0\n",
       "windspeed       0\n",
       "casual          0\n",
       "registered      0\n",
       "dtype: int64"
      ]
     },
     "execution_count": 34,
     "metadata": {},
     "output_type": "execute_result"
    }
   ],
   "source": [
    "# find null value in data set 2\n",
    "\n",
    "data2.isnull().sum()"
   ]
  },
  {
   "cell_type": "code",
   "execution_count": 35,
   "metadata": {},
   "outputs": [
    {
     "name": "stdout",
     "output_type": "stream",
     "text": [
      "null percentage of  Data set 2 : \n",
      "temperature    1.803279\n",
      "humidity       0.000000\n",
      "windspeed      0.000000\n",
      "casual         0.000000\n",
      "registered     0.000000\n",
      "dtype: float64\n"
     ]
    }
   ],
   "source": [
    "print(f'null percentage of  Data set 2 : \\n{data2.isnull().sum() / data2.shape[0]  * 100}')"
   ]
  },
  {
   "cell_type": "code",
   "execution_count": 36,
   "metadata": {},
   "outputs": [
    {
     "name": "stdout",
     "output_type": "stream",
     "text": [
      " total null percentage of data2 : 1.803 %\n"
     ]
    }
   ],
   "source": [
    "print(f' total null percentage of data2 : {round(data2.isnull().sum().sum() / data2.shape[0] * 100,3 )} %')"
   ]
  },
  {
   "cell_type": "code",
   "execution_count": 37,
   "metadata": {},
   "outputs": [],
   "source": [
    "# filled null value in dataset 2 by using a mode filling\n",
    "\n",
    "data2[\"temperature\"].mode()[0]\n",
    "data2[\"temperature\"].fillna(data2[\"temperature\"].mode()[0], inplace = True)\n"
   ]
  },
  {
   "cell_type": "code",
   "execution_count": 38,
   "metadata": {},
   "outputs": [
    {
     "data": {
      "text/plain": [
       "<Axes: >"
      ]
     },
     "execution_count": 38,
     "metadata": {},
     "output_type": "execute_result"
    },
    {
     "data": {
      "image/png": "[encoded data removed]",
      "text/plain": [
       "<Figure size 640x480 with 2 Axes>"
      ]
     },
     "metadata": {},
     "output_type": "display_data"
    }
   ],
   "source": [
    "#  no null data found in data2 set\n",
    "\n",
    "sns.heatmap(data2.isnull())\n"
   ]
  },
  {
   "cell_type": "code",
   "execution_count": 39,
   "metadata": {},
   "outputs": [
    {
     "data": {
      "text/plain": [
       "temperature    0\n",
       "humidity       0\n",
       "windspeed      0\n",
       "casual         0\n",
       "registered     0\n",
       "dtype: int64"
      ]
     },
     "execution_count": 39,
     "metadata": {},
     "output_type": "execute_result"
    }
   ],
   "source": [
    "data2.isnull().sum()"
   ]
  },
  {
   "cell_type": "code",
   "execution_count": 40,
   "metadata": {},
   "outputs": [
    {
     "data": {
      "text/html": [
       "<div>\n",
       "<style scoped>\n",
       "    .dataframe tbody tr th:only-of-type {\n",
       "        vertical-align: middle;\n",
       "    }\n",
       "\n",
       "    .dataframe tbody tr th {\n",
       "        vertical-align: top;\n",
       "    }\n",
       "\n",
       "    .dataframe thead th {\n",
       "        text-align: right;\n",
       "    }\n",
       "</style>\n",
       "<table border=\"1\" class=\"dataframe\">\n",
       "  <thead>\n",
       "    <tr style=\"text-align: right;\">\n",
       "      <th></th>\n",
       "      <th>temperature</th>\n",
       "      <th>humidity</th>\n",
       "      <th>windspeed</th>\n",
       "      <th>casual</th>\n",
       "      <th>registered</th>\n",
       "    </tr>\n",
       "  </thead>\n",
       "  <tbody>\n",
       "    <tr>\n",
       "      <th>0</th>\n",
       "      <td>0.2879</td>\n",
       "      <td>0.81</td>\n",
       "      <td>0.0000</td>\n",
       "      <td>3</td>\n",
       "      <td>13</td>\n",
       "    </tr>\n",
       "    <tr>\n",
       "      <th>1</th>\n",
       "      <td>0.2727</td>\n",
       "      <td>0.80</td>\n",
       "      <td>0.0000</td>\n",
       "      <td>8</td>\n",
       "      <td>32</td>\n",
       "    </tr>\n",
       "    <tr>\n",
       "      <th>2</th>\n",
       "      <td>0.2727</td>\n",
       "      <td>0.80</td>\n",
       "      <td>0.0000</td>\n",
       "      <td>5</td>\n",
       "      <td>27</td>\n",
       "    </tr>\n",
       "    <tr>\n",
       "      <th>3</th>\n",
       "      <td>0.2879</td>\n",
       "      <td>0.75</td>\n",
       "      <td>0.0000</td>\n",
       "      <td>3</td>\n",
       "      <td>10</td>\n",
       "    </tr>\n",
       "    <tr>\n",
       "      <th>4</th>\n",
       "      <td>0.2879</td>\n",
       "      <td>0.75</td>\n",
       "      <td>0.0000</td>\n",
       "      <td>0</td>\n",
       "      <td>1</td>\n",
       "    </tr>\n",
       "    <tr>\n",
       "      <th>...</th>\n",
       "      <td>...</td>\n",
       "      <td>...</td>\n",
       "      <td>...</td>\n",
       "      <td>...</td>\n",
       "      <td>...</td>\n",
       "    </tr>\n",
       "    <tr>\n",
       "      <th>605</th>\n",
       "      <td>0.2121</td>\n",
       "      <td>0.93</td>\n",
       "      <td>0.1045</td>\n",
       "      <td>0</td>\n",
       "      <td>30</td>\n",
       "    </tr>\n",
       "    <tr>\n",
       "      <th>606</th>\n",
       "      <td>0.2121</td>\n",
       "      <td>0.93</td>\n",
       "      <td>0.1045</td>\n",
       "      <td>1</td>\n",
       "      <td>28</td>\n",
       "    </tr>\n",
       "    <tr>\n",
       "      <th>607</th>\n",
       "      <td>0.2121</td>\n",
       "      <td>0.93</td>\n",
       "      <td>0.1045</td>\n",
       "      <td>0</td>\n",
       "      <td>31</td>\n",
       "    </tr>\n",
       "    <tr>\n",
       "      <th>608</th>\n",
       "      <td>0.2727</td>\n",
       "      <td>0.80</td>\n",
       "      <td>0.0000</td>\n",
       "      <td>2</td>\n",
       "      <td>36</td>\n",
       "    </tr>\n",
       "    <tr>\n",
       "      <th>609</th>\n",
       "      <td>0.2576</td>\n",
       "      <td>0.86</td>\n",
       "      <td>0.0000</td>\n",
       "      <td>1</td>\n",
       "      <td>40</td>\n",
       "    </tr>\n",
       "  </tbody>\n",
       "</table>\n",
       "<p>610 rows × 5 columns</p>\n",
       "</div>"
      ],
      "text/plain": [
       "     temperature  humidity  windspeed  casual  registered\n",
       "0         0.2879      0.81     0.0000       3          13\n",
       "1         0.2727      0.80     0.0000       8          32\n",
       "2         0.2727      0.80     0.0000       5          27\n",
       "3         0.2879      0.75     0.0000       3          10\n",
       "4         0.2879      0.75     0.0000       0           1\n",
       "..           ...       ...        ...     ...         ...\n",
       "605       0.2121      0.93     0.1045       0          30\n",
       "606       0.2121      0.93     0.1045       1          28\n",
       "607       0.2121      0.93     0.1045       0          31\n",
       "608       0.2727      0.80     0.0000       2          36\n",
       "609       0.2576      0.86     0.0000       1          40\n",
       "\n",
       "[610 rows x 5 columns]"
      ]
     },
     "execution_count": 40,
     "metadata": {},
     "output_type": "execute_result"
    }
   ],
   "source": [
    "data2"
   ]
  },
  {
   "cell_type": "markdown",
   "metadata": {},
   "source": [
    "# Concat Data set 1 and Data set 2"
   ]
  },
  {
   "cell_type": "code",
   "execution_count": 41,
   "metadata": {},
   "outputs": [
    {
     "data": {
      "text/html": [
       "<div>\n",
       "<style scoped>\n",
       "    .dataframe tbody tr th:only-of-type {\n",
       "        vertical-align: middle;\n",
       "    }\n",
       "\n",
       "    .dataframe tbody tr th {\n",
       "        vertical-align: top;\n",
       "    }\n",
       "\n",
       "    .dataframe thead th {\n",
       "        text-align: right;\n",
       "    }\n",
       "</style>\n",
       "<table border=\"1\" class=\"dataframe\">\n",
       "  <thead>\n",
       "    <tr style=\"text-align: right;\">\n",
       "      <th></th>\n",
       "      <th>serial no</th>\n",
       "      <th>Date</th>\n",
       "      <th>hours</th>\n",
       "      <th>holiday</th>\n",
       "      <th>weekday</th>\n",
       "      <th>weathersit</th>\n",
       "      <th>temperature1</th>\n",
       "      <th>temperature</th>\n",
       "      <th>humidity</th>\n",
       "      <th>windspeed</th>\n",
       "      <th>casual</th>\n",
       "      <th>registered</th>\n",
       "    </tr>\n",
       "  </thead>\n",
       "  <tbody>\n",
       "    <tr>\n",
       "      <th>0</th>\n",
       "      <td>1</td>\n",
       "      <td>2011-01-01</td>\n",
       "      <td>0</td>\n",
       "      <td>False</td>\n",
       "      <td>6</td>\n",
       "      <td>1</td>\n",
       "      <td>0.24</td>\n",
       "      <td>0.2879</td>\n",
       "      <td>0.81</td>\n",
       "      <td>0.0000</td>\n",
       "      <td>3</td>\n",
       "      <td>13</td>\n",
       "    </tr>\n",
       "    <tr>\n",
       "      <th>1</th>\n",
       "      <td>2</td>\n",
       "      <td>2011-01-01</td>\n",
       "      <td>1</td>\n",
       "      <td>False</td>\n",
       "      <td>6</td>\n",
       "      <td>1</td>\n",
       "      <td>0.22</td>\n",
       "      <td>0.2727</td>\n",
       "      <td>0.80</td>\n",
       "      <td>0.0000</td>\n",
       "      <td>8</td>\n",
       "      <td>32</td>\n",
       "    </tr>\n",
       "    <tr>\n",
       "      <th>2</th>\n",
       "      <td>3</td>\n",
       "      <td>2011-01-01</td>\n",
       "      <td>2</td>\n",
       "      <td>False</td>\n",
       "      <td>6</td>\n",
       "      <td>1</td>\n",
       "      <td>0.22</td>\n",
       "      <td>0.2727</td>\n",
       "      <td>0.80</td>\n",
       "      <td>0.0000</td>\n",
       "      <td>5</td>\n",
       "      <td>27</td>\n",
       "    </tr>\n",
       "    <tr>\n",
       "      <th>3</th>\n",
       "      <td>4</td>\n",
       "      <td>2011-01-01</td>\n",
       "      <td>3</td>\n",
       "      <td>False</td>\n",
       "      <td>6</td>\n",
       "      <td>1</td>\n",
       "      <td>0.24</td>\n",
       "      <td>0.2879</td>\n",
       "      <td>0.75</td>\n",
       "      <td>0.0000</td>\n",
       "      <td>3</td>\n",
       "      <td>10</td>\n",
       "    </tr>\n",
       "    <tr>\n",
       "      <th>4</th>\n",
       "      <td>5</td>\n",
       "      <td>2011-01-01</td>\n",
       "      <td>4</td>\n",
       "      <td>False</td>\n",
       "      <td>6</td>\n",
       "      <td>1</td>\n",
       "      <td>0.24</td>\n",
       "      <td>0.2879</td>\n",
       "      <td>0.75</td>\n",
       "      <td>0.0000</td>\n",
       "      <td>0</td>\n",
       "      <td>1</td>\n",
       "    </tr>\n",
       "    <tr>\n",
       "      <th>...</th>\n",
       "      <td>...</td>\n",
       "      <td>...</td>\n",
       "      <td>...</td>\n",
       "      <td>...</td>\n",
       "      <td>...</td>\n",
       "      <td>...</td>\n",
       "      <td>...</td>\n",
       "      <td>...</td>\n",
       "      <td>...</td>\n",
       "      <td>...</td>\n",
       "      <td>...</td>\n",
       "      <td>...</td>\n",
       "    </tr>\n",
       "    <tr>\n",
       "      <th>605</th>\n",
       "      <td>606</td>\n",
       "      <td>2011-01-28</td>\n",
       "      <td>11</td>\n",
       "      <td>False</td>\n",
       "      <td>5</td>\n",
       "      <td>3</td>\n",
       "      <td>0.18</td>\n",
       "      <td>0.2121</td>\n",
       "      <td>0.93</td>\n",
       "      <td>0.1045</td>\n",
       "      <td>0</td>\n",
       "      <td>30</td>\n",
       "    </tr>\n",
       "    <tr>\n",
       "      <th>606</th>\n",
       "      <td>607</td>\n",
       "      <td>2011-01-28</td>\n",
       "      <td>12</td>\n",
       "      <td>False</td>\n",
       "      <td>5</td>\n",
       "      <td>3</td>\n",
       "      <td>0.18</td>\n",
       "      <td>0.2121</td>\n",
       "      <td>0.93</td>\n",
       "      <td>0.1045</td>\n",
       "      <td>1</td>\n",
       "      <td>28</td>\n",
       "    </tr>\n",
       "    <tr>\n",
       "      <th>607</th>\n",
       "      <td>608</td>\n",
       "      <td>2011-01-28</td>\n",
       "      <td>13</td>\n",
       "      <td>False</td>\n",
       "      <td>5</td>\n",
       "      <td>3</td>\n",
       "      <td>0.18</td>\n",
       "      <td>0.2121</td>\n",
       "      <td>0.93</td>\n",
       "      <td>0.1045</td>\n",
       "      <td>0</td>\n",
       "      <td>31</td>\n",
       "    </tr>\n",
       "    <tr>\n",
       "      <th>608</th>\n",
       "      <td>609</td>\n",
       "      <td>2011-01-28</td>\n",
       "      <td>14</td>\n",
       "      <td>False</td>\n",
       "      <td>5</td>\n",
       "      <td>3</td>\n",
       "      <td>0.22</td>\n",
       "      <td>0.2727</td>\n",
       "      <td>0.80</td>\n",
       "      <td>0.0000</td>\n",
       "      <td>2</td>\n",
       "      <td>36</td>\n",
       "    </tr>\n",
       "    <tr>\n",
       "      <th>609</th>\n",
       "      <td>610</td>\n",
       "      <td>2011-01-28</td>\n",
       "      <td>15</td>\n",
       "      <td>False</td>\n",
       "      <td>5</td>\n",
       "      <td>2</td>\n",
       "      <td>0.20</td>\n",
       "      <td>0.2576</td>\n",
       "      <td>0.86</td>\n",
       "      <td>0.0000</td>\n",
       "      <td>1</td>\n",
       "      <td>40</td>\n",
       "    </tr>\n",
       "  </tbody>\n",
       "</table>\n",
       "<p>610 rows × 12 columns</p>\n",
       "</div>"
      ],
      "text/plain": [
       "     serial no       Date  hours  holiday  weekday  weathersit  temperature1  \\\n",
       "0            1 2011-01-01      0    False        6           1          0.24   \n",
       "1            2 2011-01-01      1    False        6           1          0.22   \n",
       "2            3 2011-01-01      2    False        6           1          0.22   \n",
       "3            4 2011-01-01      3    False        6           1          0.24   \n",
       "4            5 2011-01-01      4    False        6           1          0.24   \n",
       "..         ...        ...    ...      ...      ...         ...           ...   \n",
       "605        606 2011-01-28     11    False        5           3          0.18   \n",
       "606        607 2011-01-28     12    False        5           3          0.18   \n",
       "607        608 2011-01-28     13    False        5           3          0.18   \n",
       "608        609 2011-01-28     14    False        5           3          0.22   \n",
       "609        610 2011-01-28     15    False        5           2          0.20   \n",
       "\n",
       "     temperature  humidity  windspeed  casual  registered  \n",
       "0         0.2879      0.81     0.0000       3          13  \n",
       "1         0.2727      0.80     0.0000       8          32  \n",
       "2         0.2727      0.80     0.0000       5          27  \n",
       "3         0.2879      0.75     0.0000       3          10  \n",
       "4         0.2879      0.75     0.0000       0           1  \n",
       "..           ...       ...        ...     ...         ...  \n",
       "605       0.2121      0.93     0.1045       0          30  \n",
       "606       0.2121      0.93     0.1045       1          28  \n",
       "607       0.2121      0.93     0.1045       0          31  \n",
       "608       0.2727      0.80     0.0000       2          36  \n",
       "609       0.2576      0.86     0.0000       1          40  \n",
       "\n",
       "[610 rows x 12 columns]"
      ]
     },
     "execution_count": 41,
     "metadata": {},
     "output_type": "execute_result"
    }
   ],
   "source": [
    "data4 = pd.concat([data1,data2],axis = 1)\n",
    "data4"
   ]
  },
  {
   "cell_type": "code",
   "execution_count": 42,
   "metadata": {},
   "outputs": [],
   "source": [
    "data4.drop(columns=[\"temperature1\"],inplace = True)"
   ]
  },
  {
   "cell_type": "code",
   "execution_count": 43,
   "metadata": {},
   "outputs": [],
   "source": [
    "data4.set_index([\"serial no\"],inplace = True)"
   ]
  },
  {
   "cell_type": "code",
   "execution_count": 44,
   "metadata": {},
   "outputs": [
    {
     "data": {
      "text/html": [
       "<div>\n",
       "<style scoped>\n",
       "    .dataframe tbody tr th:only-of-type {\n",
       "        vertical-align: middle;\n",
       "    }\n",
       "\n",
       "    .dataframe tbody tr th {\n",
       "        vertical-align: top;\n",
       "    }\n",
       "\n",
       "    .dataframe thead th {\n",
       "        text-align: right;\n",
       "    }\n",
       "</style>\n",
       "<table border=\"1\" class=\"dataframe\">\n",
       "  <thead>\n",
       "    <tr style=\"text-align: right;\">\n",
       "      <th></th>\n",
       "      <th>Date</th>\n",
       "      <th>hours</th>\n",
       "      <th>holiday</th>\n",
       "      <th>weekday</th>\n",
       "      <th>weathersit</th>\n",
       "      <th>temperature</th>\n",
       "      <th>humidity</th>\n",
       "      <th>windspeed</th>\n",
       "      <th>casual</th>\n",
       "      <th>registered</th>\n",
       "    </tr>\n",
       "    <tr>\n",
       "      <th>serial no</th>\n",
       "      <th></th>\n",
       "      <th></th>\n",
       "      <th></th>\n",
       "      <th></th>\n",
       "      <th></th>\n",
       "      <th></th>\n",
       "      <th></th>\n",
       "      <th></th>\n",
       "      <th></th>\n",
       "      <th></th>\n",
       "    </tr>\n",
       "  </thead>\n",
       "  <tbody>\n",
       "    <tr>\n",
       "      <th>1</th>\n",
       "      <td>2011-01-01</td>\n",
       "      <td>0</td>\n",
       "      <td>False</td>\n",
       "      <td>6</td>\n",
       "      <td>1</td>\n",
       "      <td>0.2879</td>\n",
       "      <td>0.81</td>\n",
       "      <td>0.0000</td>\n",
       "      <td>3</td>\n",
       "      <td>13</td>\n",
       "    </tr>\n",
       "    <tr>\n",
       "      <th>2</th>\n",
       "      <td>2011-01-01</td>\n",
       "      <td>1</td>\n",
       "      <td>False</td>\n",
       "      <td>6</td>\n",
       "      <td>1</td>\n",
       "      <td>0.2727</td>\n",
       "      <td>0.80</td>\n",
       "      <td>0.0000</td>\n",
       "      <td>8</td>\n",
       "      <td>32</td>\n",
       "    </tr>\n",
       "    <tr>\n",
       "      <th>3</th>\n",
       "      <td>2011-01-01</td>\n",
       "      <td>2</td>\n",
       "      <td>False</td>\n",
       "      <td>6</td>\n",
       "      <td>1</td>\n",
       "      <td>0.2727</td>\n",
       "      <td>0.80</td>\n",
       "      <td>0.0000</td>\n",
       "      <td>5</td>\n",
       "      <td>27</td>\n",
       "    </tr>\n",
       "    <tr>\n",
       "      <th>4</th>\n",
       "      <td>2011-01-01</td>\n",
       "      <td>3</td>\n",
       "      <td>False</td>\n",
       "      <td>6</td>\n",
       "      <td>1</td>\n",
       "      <td>0.2879</td>\n",
       "      <td>0.75</td>\n",
       "      <td>0.0000</td>\n",
       "      <td>3</td>\n",
       "      <td>10</td>\n",
       "    </tr>\n",
       "    <tr>\n",
       "      <th>5</th>\n",
       "      <td>2011-01-01</td>\n",
       "      <td>4</td>\n",
       "      <td>False</td>\n",
       "      <td>6</td>\n",
       "      <td>1</td>\n",
       "      <td>0.2879</td>\n",
       "      <td>0.75</td>\n",
       "      <td>0.0000</td>\n",
       "      <td>0</td>\n",
       "      <td>1</td>\n",
       "    </tr>\n",
       "    <tr>\n",
       "      <th>...</th>\n",
       "      <td>...</td>\n",
       "      <td>...</td>\n",
       "      <td>...</td>\n",
       "      <td>...</td>\n",
       "      <td>...</td>\n",
       "      <td>...</td>\n",
       "      <td>...</td>\n",
       "      <td>...</td>\n",
       "      <td>...</td>\n",
       "      <td>...</td>\n",
       "    </tr>\n",
       "    <tr>\n",
       "      <th>606</th>\n",
       "      <td>2011-01-28</td>\n",
       "      <td>11</td>\n",
       "      <td>False</td>\n",
       "      <td>5</td>\n",
       "      <td>3</td>\n",
       "      <td>0.2121</td>\n",
       "      <td>0.93</td>\n",
       "      <td>0.1045</td>\n",
       "      <td>0</td>\n",
       "      <td>30</td>\n",
       "    </tr>\n",
       "    <tr>\n",
       "      <th>607</th>\n",
       "      <td>2011-01-28</td>\n",
       "      <td>12</td>\n",
       "      <td>False</td>\n",
       "      <td>5</td>\n",
       "      <td>3</td>\n",
       "      <td>0.2121</td>\n",
       "      <td>0.93</td>\n",
       "      <td>0.1045</td>\n",
       "      <td>1</td>\n",
       "      <td>28</td>\n",
       "    </tr>\n",
       "    <tr>\n",
       "      <th>608</th>\n",
       "      <td>2011-01-28</td>\n",
       "      <td>13</td>\n",
       "      <td>False</td>\n",
       "      <td>5</td>\n",
       "      <td>3</td>\n",
       "      <td>0.2121</td>\n",
       "      <td>0.93</td>\n",
       "      <td>0.1045</td>\n",
       "      <td>0</td>\n",
       "      <td>31</td>\n",
       "    </tr>\n",
       "    <tr>\n",
       "      <th>609</th>\n",
       "      <td>2011-01-28</td>\n",
       "      <td>14</td>\n",
       "      <td>False</td>\n",
       "      <td>5</td>\n",
       "      <td>3</td>\n",
       "      <td>0.2727</td>\n",
       "      <td>0.80</td>\n",
       "      <td>0.0000</td>\n",
       "      <td>2</td>\n",
       "      <td>36</td>\n",
       "    </tr>\n",
       "    <tr>\n",
       "      <th>610</th>\n",
       "      <td>2011-01-28</td>\n",
       "      <td>15</td>\n",
       "      <td>False</td>\n",
       "      <td>5</td>\n",
       "      <td>2</td>\n",
       "      <td>0.2576</td>\n",
       "      <td>0.86</td>\n",
       "      <td>0.0000</td>\n",
       "      <td>1</td>\n",
       "      <td>40</td>\n",
       "    </tr>\n",
       "  </tbody>\n",
       "</table>\n",
       "<p>610 rows × 10 columns</p>\n",
       "</div>"
      ],
      "text/plain": [
       "                Date  hours  holiday  weekday  weathersit  temperature  \\\n",
       "serial no                                                                \n",
       "1         2011-01-01      0    False        6           1       0.2879   \n",
       "2         2011-01-01      1    False        6           1       0.2727   \n",
       "3         2011-01-01      2    False        6           1       0.2727   \n",
       "4         2011-01-01      3    False        6           1       0.2879   \n",
       "5         2011-01-01      4    False        6           1       0.2879   \n",
       "...              ...    ...      ...      ...         ...          ...   \n",
       "606       2011-01-28     11    False        5           3       0.2121   \n",
       "607       2011-01-28     12    False        5           3       0.2121   \n",
       "608       2011-01-28     13    False        5           3       0.2121   \n",
       "609       2011-01-28     14    False        5           3       0.2727   \n",
       "610       2011-01-28     15    False        5           2       0.2576   \n",
       "\n",
       "           humidity  windspeed  casual  registered  \n",
       "serial no                                           \n",
       "1              0.81     0.0000       3          13  \n",
       "2              0.80     0.0000       8          32  \n",
       "3              0.80     0.0000       5          27  \n",
       "4              0.75     0.0000       3          10  \n",
       "5              0.75     0.0000       0           1  \n",
       "...             ...        ...     ...         ...  \n",
       "606            0.93     0.1045       0          30  \n",
       "607            0.93     0.1045       1          28  \n",
       "608            0.93     0.1045       0          31  \n",
       "609            0.80     0.0000       2          36  \n",
       "610            0.86     0.0000       1          40  \n",
       "\n",
       "[610 rows x 10 columns]"
      ]
     },
     "execution_count": 44,
     "metadata": {},
     "output_type": "execute_result"
    }
   ],
   "source": [
    "data4"
   ]
  },
  {
   "cell_type": "code",
   "execution_count": 45,
   "metadata": {},
   "outputs": [
    {
     "data": {
      "text/plain": [
       "(610, 10)"
      ]
     },
     "execution_count": 45,
     "metadata": {},
     "output_type": "execute_result"
    }
   ],
   "source": [
    "data4.shape"
   ]
  },
  {
   "cell_type": "markdown",
   "metadata": {},
   "source": [
    "# central tendency"
   ]
  },
  {
   "cell_type": "code",
   "execution_count": 46,
   "metadata": {},
   "outputs": [
    {
     "name": "stdout",
     "output_type": "stream",
     "text": [
      "<class 'pandas.core.frame.DataFrame'>\n",
      "Index: 610 entries, 1 to 610\n",
      "Data columns (total 10 columns):\n",
      " #   Column       Non-Null Count  Dtype         \n",
      "---  ------       --------------  -----         \n",
      " 0   Date         610 non-null    datetime64[ns]\n",
      " 1   hours        610 non-null    int64         \n",
      " 2   holiday      610 non-null    bool          \n",
      " 3   weekday      610 non-null    int64         \n",
      " 4   weathersit   610 non-null    int64         \n",
      " 5   temperature  610 non-null    float64       \n",
      " 6   humidity     610 non-null    float64       \n",
      " 7   windspeed    610 non-null    float64       \n",
      " 8   casual       610 non-null    int64         \n",
      " 9   registered   610 non-null    int64         \n",
      "dtypes: bool(1), datetime64[ns](1), float64(3), int64(5)\n",
      "memory usage: 48.3 KB\n"
     ]
    }
   ],
   "source": [
    "data4.info()"
   ]
  },
  {
   "cell_type": "code",
   "execution_count": 47,
   "metadata": {},
   "outputs": [
    {
     "data": {
      "text/html": [
       "<div>\n",
       "<style scoped>\n",
       "    .dataframe tbody tr th:only-of-type {\n",
       "        vertical-align: middle;\n",
       "    }\n",
       "\n",
       "    .dataframe tbody tr th {\n",
       "        vertical-align: top;\n",
       "    }\n",
       "\n",
       "    .dataframe thead th {\n",
       "        text-align: right;\n",
       "    }\n",
       "</style>\n",
       "<table border=\"1\" class=\"dataframe\">\n",
       "  <thead>\n",
       "    <tr style=\"text-align: right;\">\n",
       "      <th></th>\n",
       "      <th>Date</th>\n",
       "      <th>hours</th>\n",
       "      <th>weekday</th>\n",
       "      <th>weathersit</th>\n",
       "      <th>temperature</th>\n",
       "      <th>humidity</th>\n",
       "      <th>windspeed</th>\n",
       "      <th>casual</th>\n",
       "      <th>registered</th>\n",
       "    </tr>\n",
       "  </thead>\n",
       "  <tbody>\n",
       "    <tr>\n",
       "      <th>count</th>\n",
       "      <td>610</td>\n",
       "      <td>610.000000</td>\n",
       "      <td>610.000000</td>\n",
       "      <td>610.000000</td>\n",
       "      <td>610.000000</td>\n",
       "      <td>610.000000</td>\n",
       "      <td>610.000000</td>\n",
       "      <td>610.000000</td>\n",
       "      <td>610.000000</td>\n",
       "    </tr>\n",
       "    <tr>\n",
       "      <th>mean</th>\n",
       "      <td>2011-03-27 17:16:19.672131072</td>\n",
       "      <td>11.795082</td>\n",
       "      <td>2.977049</td>\n",
       "      <td>1.477049</td>\n",
       "      <td>0.199882</td>\n",
       "      <td>0.562475</td>\n",
       "      <td>0.204851</td>\n",
       "      <td>4.501639</td>\n",
       "      <td>51.068852</td>\n",
       "    </tr>\n",
       "    <tr>\n",
       "      <th>min</th>\n",
       "      <td>2011-01-01 00:00:00</td>\n",
       "      <td>0.000000</td>\n",
       "      <td>0.000000</td>\n",
       "      <td>1.000000</td>\n",
       "      <td>0.000000</td>\n",
       "      <td>0.210000</td>\n",
       "      <td>0.000000</td>\n",
       "      <td>0.000000</td>\n",
       "      <td>0.000000</td>\n",
       "    </tr>\n",
       "    <tr>\n",
       "      <th>25%</th>\n",
       "      <td>2011-01-18 00:00:00</td>\n",
       "      <td>6.000000</td>\n",
       "      <td>1.000000</td>\n",
       "      <td>1.000000</td>\n",
       "      <td>0.151500</td>\n",
       "      <td>0.432500</td>\n",
       "      <td>0.104500</td>\n",
       "      <td>0.000000</td>\n",
       "      <td>14.000000</td>\n",
       "    </tr>\n",
       "    <tr>\n",
       "      <th>50%</th>\n",
       "      <td>2011-01-25 00:00:00</td>\n",
       "      <td>12.000000</td>\n",
       "      <td>3.000000</td>\n",
       "      <td>1.000000</td>\n",
       "      <td>0.197000</td>\n",
       "      <td>0.520000</td>\n",
       "      <td>0.194000</td>\n",
       "      <td>2.000000</td>\n",
       "      <td>43.000000</td>\n",
       "    </tr>\n",
       "    <tr>\n",
       "      <th>75%</th>\n",
       "      <td>2011-06-01 00:00:00</td>\n",
       "      <td>18.000000</td>\n",
       "      <td>5.000000</td>\n",
       "      <td>2.000000</td>\n",
       "      <td>0.227300</td>\n",
       "      <td>0.690000</td>\n",
       "      <td>0.283600</td>\n",
       "      <td>6.000000</td>\n",
       "      <td>70.000000</td>\n",
       "    </tr>\n",
       "    <tr>\n",
       "      <th>max</th>\n",
       "      <td>2011-12-01 00:00:00</td>\n",
       "      <td>23.000000</td>\n",
       "      <td>6.000000</td>\n",
       "      <td>4.000000</td>\n",
       "      <td>0.454500</td>\n",
       "      <td>1.000000</td>\n",
       "      <td>0.582100</td>\n",
       "      <td>47.000000</td>\n",
       "      <td>247.000000</td>\n",
       "    </tr>\n",
       "    <tr>\n",
       "      <th>std</th>\n",
       "      <td>NaN</td>\n",
       "      <td>6.852107</td>\n",
       "      <td>2.054943</td>\n",
       "      <td>0.643496</td>\n",
       "      <td>0.078121</td>\n",
       "      <td>0.175440</td>\n",
       "      <td>0.121806</td>\n",
       "      <td>6.319945</td>\n",
       "      <td>47.021204</td>\n",
       "    </tr>\n",
       "  </tbody>\n",
       "</table>\n",
       "</div>"
      ],
      "text/plain": [
       "                                Date       hours     weekday  weathersit  \\\n",
       "count                            610  610.000000  610.000000  610.000000   \n",
       "mean   2011-03-27 17:16:19.672131072   11.795082    2.977049    1.477049   \n",
       "min              2011-01-01 00:00:00    0.000000    0.000000    1.000000   \n",
       "25%              2011-01-18 00:00:00    6.000000    1.000000    1.000000   \n",
       "50%              2011-01-25 00:00:00   12.000000    3.000000    1.000000   \n",
       "75%              2011-06-01 00:00:00   18.000000    5.000000    2.000000   \n",
       "max              2011-12-01 00:00:00   23.000000    6.000000    4.000000   \n",
       "std                              NaN    6.852107    2.054943    0.643496   \n",
       "\n",
       "       temperature    humidity   windspeed      casual  registered  \n",
       "count   610.000000  610.000000  610.000000  610.000000  610.000000  \n",
       "mean      0.199882    0.562475    0.204851    4.501639   51.068852  \n",
       "min       0.000000    0.210000    0.000000    0.000000    0.000000  \n",
       "25%       0.151500    0.432500    0.104500    0.000000   14.000000  \n",
       "50%       0.197000    0.520000    0.194000    2.000000   43.000000  \n",
       "75%       0.227300    0.690000    0.283600    6.000000   70.000000  \n",
       "max       0.454500    1.000000    0.582100   47.000000  247.000000  \n",
       "std       0.078121    0.175440    0.121806    6.319945   47.021204  "
      ]
     },
     "execution_count": 47,
     "metadata": {},
     "output_type": "execute_result"
    }
   ],
   "source": [
    "data4.describe()"
   ]
  },
  {
   "cell_type": "code",
   "execution_count": 48,
   "metadata": {},
   "outputs": [
    {
     "data": {
      "text/plain": [
       "Date           2011-03-27 17:16:19.672131072\n",
       "hours                              11.795082\n",
       "holiday                             0.039344\n",
       "weekday                             2.977049\n",
       "weathersit                          1.477049\n",
       "temperature                         0.199882\n",
       "humidity                            0.562475\n",
       "windspeed                           0.204851\n",
       "casual                              4.501639\n",
       "registered                         51.068852\n",
       "dtype: object"
      ]
     },
     "execution_count": 48,
     "metadata": {},
     "output_type": "execute_result"
    }
   ],
   "source": [
    "data4.mean()"
   ]
  },
  {
   "cell_type": "code",
   "execution_count": 49,
   "metadata": {},
   "outputs": [
    {
     "data": {
      "text/plain": [
       "Date           2011-01-25 00:00:00\n",
       "hours                         12.0\n",
       "holiday                        0.0\n",
       "weekday                        3.0\n",
       "weathersit                     1.0\n",
       "temperature                  0.197\n",
       "humidity                      0.52\n",
       "windspeed                    0.194\n",
       "casual                         2.0\n",
       "registered                    43.0\n",
       "dtype: object"
      ]
     },
     "execution_count": 49,
     "metadata": {},
     "output_type": "execute_result"
    }
   ],
   "source": [
    "data4.median()"
   ]
  },
  {
   "cell_type": "code",
   "execution_count": 50,
   "metadata": {},
   "outputs": [
    {
     "data": {
      "text/html": [
       "<div>\n",
       "<style scoped>\n",
       "    .dataframe tbody tr th:only-of-type {\n",
       "        vertical-align: middle;\n",
       "    }\n",
       "\n",
       "    .dataframe tbody tr th {\n",
       "        vertical-align: top;\n",
       "    }\n",
       "\n",
       "    .dataframe thead th {\n",
       "        text-align: right;\n",
       "    }\n",
       "</style>\n",
       "<table border=\"1\" class=\"dataframe\">\n",
       "  <thead>\n",
       "    <tr style=\"text-align: right;\">\n",
       "      <th></th>\n",
       "      <th>Date</th>\n",
       "      <th>hours</th>\n",
       "      <th>holiday</th>\n",
       "      <th>weekday</th>\n",
       "      <th>weathersit</th>\n",
       "      <th>temperature</th>\n",
       "      <th>humidity</th>\n",
       "      <th>windspeed</th>\n",
       "      <th>casual</th>\n",
       "      <th>registered</th>\n",
       "    </tr>\n",
       "  </thead>\n",
       "  <tbody>\n",
       "    <tr>\n",
       "      <th>0</th>\n",
       "      <td>2011-01-01</td>\n",
       "      <td>12.0</td>\n",
       "      <td>False</td>\n",
       "      <td>6.0</td>\n",
       "      <td>1.0</td>\n",
       "      <td>0.197</td>\n",
       "      <td>0.47</td>\n",
       "      <td>0.1642</td>\n",
       "      <td>0.0</td>\n",
       "      <td>1.0</td>\n",
       "    </tr>\n",
       "    <tr>\n",
       "      <th>1</th>\n",
       "      <td>2011-01-13</td>\n",
       "      <td>13.0</td>\n",
       "      <td>NaN</td>\n",
       "      <td>NaN</td>\n",
       "      <td>NaN</td>\n",
       "      <td>NaN</td>\n",
       "      <td>NaN</td>\n",
       "      <td>NaN</td>\n",
       "      <td>NaN</td>\n",
       "      <td>NaN</td>\n",
       "    </tr>\n",
       "    <tr>\n",
       "      <th>2</th>\n",
       "      <td>2011-01-15</td>\n",
       "      <td>14.0</td>\n",
       "      <td>NaN</td>\n",
       "      <td>NaN</td>\n",
       "      <td>NaN</td>\n",
       "      <td>NaN</td>\n",
       "      <td>NaN</td>\n",
       "      <td>NaN</td>\n",
       "      <td>NaN</td>\n",
       "      <td>NaN</td>\n",
       "    </tr>\n",
       "    <tr>\n",
       "      <th>3</th>\n",
       "      <td>2011-01-16</td>\n",
       "      <td>15.0</td>\n",
       "      <td>NaN</td>\n",
       "      <td>NaN</td>\n",
       "      <td>NaN</td>\n",
       "      <td>NaN</td>\n",
       "      <td>NaN</td>\n",
       "      <td>NaN</td>\n",
       "      <td>NaN</td>\n",
       "      <td>NaN</td>\n",
       "    </tr>\n",
       "    <tr>\n",
       "      <th>4</th>\n",
       "      <td>2011-01-17</td>\n",
       "      <td>16.0</td>\n",
       "      <td>NaN</td>\n",
       "      <td>NaN</td>\n",
       "      <td>NaN</td>\n",
       "      <td>NaN</td>\n",
       "      <td>NaN</td>\n",
       "      <td>NaN</td>\n",
       "      <td>NaN</td>\n",
       "      <td>NaN</td>\n",
       "    </tr>\n",
       "    <tr>\n",
       "      <th>5</th>\n",
       "      <td>2011-01-20</td>\n",
       "      <td>17.0</td>\n",
       "      <td>NaN</td>\n",
       "      <td>NaN</td>\n",
       "      <td>NaN</td>\n",
       "      <td>NaN</td>\n",
       "      <td>NaN</td>\n",
       "      <td>NaN</td>\n",
       "      <td>NaN</td>\n",
       "      <td>NaN</td>\n",
       "    </tr>\n",
       "    <tr>\n",
       "      <th>6</th>\n",
       "      <td>2011-01-21</td>\n",
       "      <td>NaN</td>\n",
       "      <td>NaN</td>\n",
       "      <td>NaN</td>\n",
       "      <td>NaN</td>\n",
       "      <td>NaN</td>\n",
       "      <td>NaN</td>\n",
       "      <td>NaN</td>\n",
       "      <td>NaN</td>\n",
       "      <td>NaN</td>\n",
       "    </tr>\n",
       "    <tr>\n",
       "      <th>7</th>\n",
       "      <td>2011-08-01</td>\n",
       "      <td>NaN</td>\n",
       "      <td>NaN</td>\n",
       "      <td>NaN</td>\n",
       "      <td>NaN</td>\n",
       "      <td>NaN</td>\n",
       "      <td>NaN</td>\n",
       "      <td>NaN</td>\n",
       "      <td>NaN</td>\n",
       "      <td>NaN</td>\n",
       "    </tr>\n",
       "    <tr>\n",
       "      <th>8</th>\n",
       "      <td>2011-09-01</td>\n",
       "      <td>NaN</td>\n",
       "      <td>NaN</td>\n",
       "      <td>NaN</td>\n",
       "      <td>NaN</td>\n",
       "      <td>NaN</td>\n",
       "      <td>NaN</td>\n",
       "      <td>NaN</td>\n",
       "      <td>NaN</td>\n",
       "      <td>NaN</td>\n",
       "    </tr>\n",
       "    <tr>\n",
       "      <th>9</th>\n",
       "      <td>2011-10-01</td>\n",
       "      <td>NaN</td>\n",
       "      <td>NaN</td>\n",
       "      <td>NaN</td>\n",
       "      <td>NaN</td>\n",
       "      <td>NaN</td>\n",
       "      <td>NaN</td>\n",
       "      <td>NaN</td>\n",
       "      <td>NaN</td>\n",
       "      <td>NaN</td>\n",
       "    </tr>\n",
       "  </tbody>\n",
       "</table>\n",
       "</div>"
      ],
      "text/plain": [
       "        Date  hours holiday  weekday  weathersit  temperature  humidity  \\\n",
       "0 2011-01-01   12.0   False      6.0         1.0        0.197      0.47   \n",
       "1 2011-01-13   13.0     NaN      NaN         NaN          NaN       NaN   \n",
       "2 2011-01-15   14.0     NaN      NaN         NaN          NaN       NaN   \n",
       "3 2011-01-16   15.0     NaN      NaN         NaN          NaN       NaN   \n",
       "4 2011-01-17   16.0     NaN      NaN         NaN          NaN       NaN   \n",
       "5 2011-01-20   17.0     NaN      NaN         NaN          NaN       NaN   \n",
       "6 2011-01-21    NaN     NaN      NaN         NaN          NaN       NaN   \n",
       "7 2011-08-01    NaN     NaN      NaN         NaN          NaN       NaN   \n",
       "8 2011-09-01    NaN     NaN      NaN         NaN          NaN       NaN   \n",
       "9 2011-10-01    NaN     NaN      NaN         NaN          NaN       NaN   \n",
       "\n",
       "   windspeed  casual  registered  \n",
       "0     0.1642     0.0         1.0  \n",
       "1        NaN     NaN         NaN  \n",
       "2        NaN     NaN         NaN  \n",
       "3        NaN     NaN         NaN  \n",
       "4        NaN     NaN         NaN  \n",
       "5        NaN     NaN         NaN  \n",
       "6        NaN     NaN         NaN  \n",
       "7        NaN     NaN         NaN  \n",
       "8        NaN     NaN         NaN  \n",
       "9        NaN     NaN         NaN  "
      ]
     },
     "execution_count": 50,
     "metadata": {},
     "output_type": "execute_result"
    }
   ],
   "source": [
    "data4.mode()"
   ]
  },
  {
   "cell_type": "markdown",
   "metadata": {},
   "source": [
    "# Data set 3"
   ]
  },
  {
   "cell_type": "code",
   "execution_count": 51,
   "metadata": {},
   "outputs": [
    {
     "data": {
      "text/html": [
       "<div>\n",
       "<style scoped>\n",
       "    .dataframe tbody tr th:only-of-type {\n",
       "        vertical-align: middle;\n",
       "    }\n",
       "\n",
       "    .dataframe tbody tr th {\n",
       "        vertical-align: top;\n",
       "    }\n",
       "\n",
       "    .dataframe thead th {\n",
       "        text-align: right;\n",
       "    }\n",
       "</style>\n",
       "<table border=\"1\" class=\"dataframe\">\n",
       "  <thead>\n",
       "    <tr style=\"text-align: right;\">\n",
       "      <th></th>\n",
       "      <th>instant</th>\n",
       "      <th>dteday</th>\n",
       "      <th>season</th>\n",
       "      <th>yr</th>\n",
       "      <th>mnth</th>\n",
       "      <th>hr</th>\n",
       "      <th>holiday</th>\n",
       "      <th>weekday</th>\n",
       "      <th>weathersit</th>\n",
       "      <th>temp</th>\n",
       "      <th>atemp</th>\n",
       "      <th>hum</th>\n",
       "      <th>windspeed</th>\n",
       "      <th>casual</th>\n",
       "      <th>registered</th>\n",
       "      <th>cnt</th>\n",
       "    </tr>\n",
       "  </thead>\n",
       "  <tbody>\n",
       "    <tr>\n",
       "      <th>0</th>\n",
       "      <td>620</td>\n",
       "      <td>29-01-2011</td>\n",
       "      <td>1</td>\n",
       "      <td>0</td>\n",
       "      <td>1</td>\n",
       "      <td>1</td>\n",
       "      <td>False</td>\n",
       "      <td>6</td>\n",
       "      <td>1</td>\n",
       "      <td>0.22</td>\n",
       "      <td>0.2273</td>\n",
       "      <td>0.64</td>\n",
       "      <td>0.1940</td>\n",
       "      <td>0</td>\n",
       "      <td>20</td>\n",
       "      <td>20</td>\n",
       "    </tr>\n",
       "    <tr>\n",
       "      <th>1</th>\n",
       "      <td>621</td>\n",
       "      <td>29-01-2011</td>\n",
       "      <td>1</td>\n",
       "      <td>0</td>\n",
       "      <td>1</td>\n",
       "      <td>2</td>\n",
       "      <td>False</td>\n",
       "      <td>6</td>\n",
       "      <td>1</td>\n",
       "      <td>0.22</td>\n",
       "      <td>0.2273</td>\n",
       "      <td>0.64</td>\n",
       "      <td>0.1642</td>\n",
       "      <td>0</td>\n",
       "      <td>15</td>\n",
       "      <td>15</td>\n",
       "    </tr>\n",
       "    <tr>\n",
       "      <th>2</th>\n",
       "      <td>622</td>\n",
       "      <td>29-01-2011</td>\n",
       "      <td>1</td>\n",
       "      <td>0</td>\n",
       "      <td>1</td>\n",
       "      <td>3</td>\n",
       "      <td>False</td>\n",
       "      <td>6</td>\n",
       "      <td>1</td>\n",
       "      <td>0.20</td>\n",
       "      <td>0.2121</td>\n",
       "      <td>0.64</td>\n",
       "      <td>0.1343</td>\n",
       "      <td>3</td>\n",
       "      <td>5</td>\n",
       "      <td>8</td>\n",
       "    </tr>\n",
       "    <tr>\n",
       "      <th>3</th>\n",
       "      <td>623</td>\n",
       "      <td>29-01-2011</td>\n",
       "      <td>1</td>\n",
       "      <td>0</td>\n",
       "      <td>1</td>\n",
       "      <td>4</td>\n",
       "      <td>False</td>\n",
       "      <td>6</td>\n",
       "      <td>1</td>\n",
       "      <td>0.16</td>\n",
       "      <td>0.1818</td>\n",
       "      <td>0.69</td>\n",
       "      <td>0.1045</td>\n",
       "      <td>1</td>\n",
       "      <td>2</td>\n",
       "      <td>3</td>\n",
       "    </tr>\n",
       "    <tr>\n",
       "      <th>4</th>\n",
       "      <td>624</td>\n",
       "      <td>29-01-2011</td>\n",
       "      <td>1</td>\n",
       "      <td>0</td>\n",
       "      <td>1</td>\n",
       "      <td>6</td>\n",
       "      <td>False</td>\n",
       "      <td>6</td>\n",
       "      <td>1</td>\n",
       "      <td>0.16</td>\n",
       "      <td>0.1818</td>\n",
       "      <td>0.64</td>\n",
       "      <td>0.1343</td>\n",
       "      <td>0</td>\n",
       "      <td>2</td>\n",
       "      <td>2</td>\n",
       "    </tr>\n",
       "    <tr>\n",
       "      <th>...</th>\n",
       "      <td>...</td>\n",
       "      <td>...</td>\n",
       "      <td>...</td>\n",
       "      <td>...</td>\n",
       "      <td>...</td>\n",
       "      <td>...</td>\n",
       "      <td>...</td>\n",
       "      <td>...</td>\n",
       "      <td>...</td>\n",
       "      <td>...</td>\n",
       "      <td>...</td>\n",
       "      <td>...</td>\n",
       "      <td>...</td>\n",
       "      <td>...</td>\n",
       "      <td>...</td>\n",
       "      <td>...</td>\n",
       "    </tr>\n",
       "    <tr>\n",
       "      <th>385</th>\n",
       "      <td>615</td>\n",
       "      <td>28-01-2011</td>\n",
       "      <td>1</td>\n",
       "      <td>0</td>\n",
       "      <td>1</td>\n",
       "      <td>20</td>\n",
       "      <td>False</td>\n",
       "      <td>5</td>\n",
       "      <td>2</td>\n",
       "      <td>0.24</td>\n",
       "      <td>0.2273</td>\n",
       "      <td>0.70</td>\n",
       "      <td>0.1940</td>\n",
       "      <td>1</td>\n",
       "      <td>61</td>\n",
       "      <td>62</td>\n",
       "    </tr>\n",
       "    <tr>\n",
       "      <th>386</th>\n",
       "      <td>616</td>\n",
       "      <td>28-01-2011</td>\n",
       "      <td>1</td>\n",
       "      <td>0</td>\n",
       "      <td>1</td>\n",
       "      <td>21</td>\n",
       "      <td>False</td>\n",
       "      <td>5</td>\n",
       "      <td>2</td>\n",
       "      <td>0.22</td>\n",
       "      <td>0.2273</td>\n",
       "      <td>0.75</td>\n",
       "      <td>0.1343</td>\n",
       "      <td>1</td>\n",
       "      <td>57</td>\n",
       "      <td>58</td>\n",
       "    </tr>\n",
       "    <tr>\n",
       "      <th>387</th>\n",
       "      <td>617</td>\n",
       "      <td>28-01-2011</td>\n",
       "      <td>1</td>\n",
       "      <td>0</td>\n",
       "      <td>1</td>\n",
       "      <td>22</td>\n",
       "      <td>False</td>\n",
       "      <td>5</td>\n",
       "      <td>1</td>\n",
       "      <td>0.24</td>\n",
       "      <td>0.2121</td>\n",
       "      <td>0.65</td>\n",
       "      <td>0.3582</td>\n",
       "      <td>0</td>\n",
       "      <td>26</td>\n",
       "      <td>26</td>\n",
       "    </tr>\n",
       "    <tr>\n",
       "      <th>388</th>\n",
       "      <td>618</td>\n",
       "      <td>28-01-2011</td>\n",
       "      <td>1</td>\n",
       "      <td>0</td>\n",
       "      <td>1</td>\n",
       "      <td>23</td>\n",
       "      <td>False</td>\n",
       "      <td>5</td>\n",
       "      <td>1</td>\n",
       "      <td>0.24</td>\n",
       "      <td>0.2273</td>\n",
       "      <td>0.60</td>\n",
       "      <td>0.2239</td>\n",
       "      <td>1</td>\n",
       "      <td>22</td>\n",
       "      <td>23</td>\n",
       "    </tr>\n",
       "    <tr>\n",
       "      <th>389</th>\n",
       "      <td>619</td>\n",
       "      <td>29-01-2011</td>\n",
       "      <td>1</td>\n",
       "      <td>0</td>\n",
       "      <td>1</td>\n",
       "      <td>0</td>\n",
       "      <td>False</td>\n",
       "      <td>6</td>\n",
       "      <td>1</td>\n",
       "      <td>0.22</td>\n",
       "      <td>0.1970</td>\n",
       "      <td>0.64</td>\n",
       "      <td>0.3582</td>\n",
       "      <td>2</td>\n",
       "      <td>26</td>\n",
       "      <td>28</td>\n",
       "    </tr>\n",
       "  </tbody>\n",
       "</table>\n",
       "<p>390 rows × 16 columns</p>\n",
       "</div>"
      ],
      "text/plain": [
       "     instant      dteday  season  yr  mnth  hr  holiday  weekday  weathersit  \\\n",
       "0        620  29-01-2011       1   0     1   1    False        6           1   \n",
       "1        621  29-01-2011       1   0     1   2    False        6           1   \n",
       "2        622  29-01-2011       1   0     1   3    False        6           1   \n",
       "3        623  29-01-2011       1   0     1   4    False        6           1   \n",
       "4        624  29-01-2011       1   0     1   6    False        6           1   \n",
       "..       ...         ...     ...  ..   ...  ..      ...      ...         ...   \n",
       "385      615  28-01-2011       1   0     1  20    False        5           2   \n",
       "386      616  28-01-2011       1   0     1  21    False        5           2   \n",
       "387      617  28-01-2011       1   0     1  22    False        5           1   \n",
       "388      618  28-01-2011       1   0     1  23    False        5           1   \n",
       "389      619  29-01-2011       1   0     1   0    False        6           1   \n",
       "\n",
       "     temp   atemp   hum  windspeed  casual  registered  cnt  \n",
       "0    0.22  0.2273  0.64     0.1940       0          20   20  \n",
       "1    0.22  0.2273  0.64     0.1642       0          15   15  \n",
       "2    0.20  0.2121  0.64     0.1343       3           5    8  \n",
       "3    0.16  0.1818  0.69     0.1045       1           2    3  \n",
       "4    0.16  0.1818  0.64     0.1343       0           2    2  \n",
       "..    ...     ...   ...        ...     ...         ...  ...  \n",
       "385  0.24  0.2273  0.70     0.1940       1          61   62  \n",
       "386  0.22  0.2273  0.75     0.1343       1          57   58  \n",
       "387  0.24  0.2121  0.65     0.3582       0          26   26  \n",
       "388  0.24  0.2273  0.60     0.2239       1          22   23  \n",
       "389  0.22  0.1970  0.64     0.3582       2          26   28  \n",
       "\n",
       "[390 rows x 16 columns]"
      ]
     },
     "execution_count": 51,
     "metadata": {},
     "output_type": "execute_result"
    }
   ],
   "source": [
    "data3 = pd.read_csv(\"C:\\\\Users\\\\HP\\\\Desktop\\\\New folder\\\\d3.csv\")\n",
    "data3"
   ]
  },
  {
   "cell_type": "code",
   "execution_count": 52,
   "metadata": {},
   "outputs": [
    {
     "data": {
      "text/plain": [
       "0      False\n",
       "1      False\n",
       "2      False\n",
       "3      False\n",
       "4      False\n",
       "       ...  \n",
       "385    False\n",
       "386    False\n",
       "387    False\n",
       "388    False\n",
       "389    False\n",
       "Length: 390, dtype: bool"
      ]
     },
     "execution_count": 52,
     "metadata": {},
     "output_type": "execute_result"
    }
   ],
   "source": [
    "data3.duplicated()"
   ]
  },
  {
   "cell_type": "code",
   "execution_count": 53,
   "metadata": {},
   "outputs": [],
   "source": [
    "data3.drop_duplicates(inplace= True)"
   ]
  },
  {
   "cell_type": "code",
   "execution_count": 54,
   "metadata": {},
   "outputs": [
    {
     "data": {
      "text/plain": [
       "(390, 16)"
      ]
     },
     "execution_count": 54,
     "metadata": {},
     "output_type": "execute_result"
    }
   ],
   "source": [
    "data3.shape"
   ]
  },
  {
   "cell_type": "code",
   "execution_count": 55,
   "metadata": {},
   "outputs": [
    {
     "name": "stdout",
     "output_type": "stream",
     "text": [
      "<class 'pandas.core.frame.DataFrame'>\n",
      "RangeIndex: 390 entries, 0 to 389\n",
      "Data columns (total 16 columns):\n",
      " #   Column      Non-Null Count  Dtype  \n",
      "---  ------      --------------  -----  \n",
      " 0   instant     390 non-null    int64  \n",
      " 1   dteday      390 non-null    object \n",
      " 2   season      390 non-null    int64  \n",
      " 3   yr          390 non-null    int64  \n",
      " 4   mnth        390 non-null    int64  \n",
      " 5   hr          390 non-null    int64  \n",
      " 6   holiday     390 non-null    bool   \n",
      " 7   weekday     390 non-null    int64  \n",
      " 8   weathersit  390 non-null    int64  \n",
      " 9   temp        390 non-null    float64\n",
      " 10  atemp       390 non-null    float64\n",
      " 11  hum         390 non-null    float64\n",
      " 12  windspeed   390 non-null    float64\n",
      " 13  casual      390 non-null    int64  \n",
      " 14  registered  390 non-null    int64  \n",
      " 15  cnt         390 non-null    int64  \n",
      "dtypes: bool(1), float64(4), int64(10), object(1)\n",
      "memory usage: 46.2+ KB\n"
     ]
    }
   ],
   "source": [
    "data3.info()"
   ]
  },
  {
   "cell_type": "code",
   "execution_count": 56,
   "metadata": {},
   "outputs": [
    {
     "data": {
      "text/plain": [
       "instant       0\n",
       "dteday        0\n",
       "season        0\n",
       "yr            0\n",
       "mnth          0\n",
       "hr            0\n",
       "holiday       0\n",
       "weekday       0\n",
       "weathersit    0\n",
       "temp          0\n",
       "atemp         0\n",
       "hum           0\n",
       "windspeed     0\n",
       "casual        0\n",
       "registered    0\n",
       "cnt           0\n",
       "dtype: int64"
      ]
     },
     "execution_count": 56,
     "metadata": {},
     "output_type": "execute_result"
    }
   ],
   "source": [
    "data3.isnull().sum()"
   ]
  },
  {
   "cell_type": "code",
   "execution_count": 57,
   "metadata": {},
   "outputs": [
    {
     "data": {
      "text/plain": [
       "instant       390\n",
       "season          1\n",
       "yr              1\n",
       "mnth            2\n",
       "hr             24\n",
       "weekday         7\n",
       "weathersit      3\n",
       "casual         36\n",
       "registered    146\n",
       "cnt           144\n",
       "dtype: int64"
      ]
     },
     "execution_count": 57,
     "metadata": {},
     "output_type": "execute_result"
    }
   ],
   "source": [
    "data3.select_dtypes(include=\"int64\").nunique()"
   ]
  },
  {
   "cell_type": "code",
   "execution_count": 58,
   "metadata": {},
   "outputs": [
    {
     "data": {
      "text/plain": [
       "dteday       18\n",
       "holiday       1\n",
       "temp         19\n",
       "atemp        22\n",
       "hum          58\n",
       "windspeed    20\n",
       "dtype: int64"
      ]
     },
     "execution_count": 58,
     "metadata": {},
     "output_type": "execute_result"
    }
   ],
   "source": [
    "data3.select_dtypes(exclude= \"int64\").nunique()"
   ]
  },
  {
   "cell_type": "code",
   "execution_count": 59,
   "metadata": {},
   "outputs": [
    {
     "data": {
      "text/html": [
       "<div>\n",
       "<style scoped>\n",
       "    .dataframe tbody tr th:only-of-type {\n",
       "        vertical-align: middle;\n",
       "    }\n",
       "\n",
       "    .dataframe tbody tr th {\n",
       "        vertical-align: top;\n",
       "    }\n",
       "\n",
       "    .dataframe thead th {\n",
       "        text-align: right;\n",
       "    }\n",
       "</style>\n",
       "<table border=\"1\" class=\"dataframe\">\n",
       "  <thead>\n",
       "    <tr style=\"text-align: right;\">\n",
       "      <th></th>\n",
       "      <th>season</th>\n",
       "      <th>yr</th>\n",
       "      <th>holiday</th>\n",
       "    </tr>\n",
       "  </thead>\n",
       "  <tbody>\n",
       "    <tr>\n",
       "      <th>0</th>\n",
       "      <td>1</td>\n",
       "      <td>0</td>\n",
       "      <td>False</td>\n",
       "    </tr>\n",
       "  </tbody>\n",
       "</table>\n",
       "</div>"
      ],
      "text/plain": [
       "   season  yr  holiday\n",
       "0       1   0    False"
      ]
     },
     "execution_count": 59,
     "metadata": {},
     "output_type": "execute_result"
    }
   ],
   "source": [
    "data3[[\"season\",\"yr\",\"holiday\"]].drop_duplicates()"
   ]
  },
  {
   "cell_type": "code",
   "execution_count": 60,
   "metadata": {},
   "outputs": [
    {
     "data": {
      "text/plain": [
       "array(['29-01-2011', '30-01-2011', '31-01-2011', '01-02-2011',\n",
       "       '02-02-2011', '03-02-2011', '04-02-2011', '05-02-2011',\n",
       "       '06-02-2011', '07-02-2011', '08-02-2011', '09-02-2011',\n",
       "       '10-02-2011', '11-02-2011', '12-02-2011', '13-02-2011',\n",
       "       '14-02-2011', '28-01-2011'], dtype=object)"
      ]
     },
     "execution_count": 60,
     "metadata": {},
     "output_type": "execute_result"
    }
   ],
   "source": [
    "data3[\"dteday\"].unique()"
   ]
  },
  {
   "cell_type": "code",
   "execution_count": 61,
   "metadata": {},
   "outputs": [
    {
     "data": {
      "text/plain": [
       "array([ 620,  621,  622,  623,  624,  625,  626,  627,  628,  629,  630,\n",
       "        631,  632,  633,  634,  635,  636,  637,  638,  639,  640,  641,\n",
       "        642,  643,  644,  645,  646,  647,  648,  649,  650,  651,  652,\n",
       "        653,  654,  655,  656,  657,  658,  659,  660,  661,  662,  663,\n",
       "        664,  665,  666,  667,  668,  669,  670,  671,  672,  673,  674,\n",
       "        675,  676,  677,  678,  679,  680,  681,  682,  683,  684,  685,\n",
       "        686,  687,  688,  689,  690,  691,  692,  693,  694,  695,  696,\n",
       "        697,  698,  699,  700,  701,  702,  703,  704,  705,  706,  707,\n",
       "        708,  709,  710,  711,  712,  713,  714,  715,  716,  717,  718,\n",
       "        719,  720,  721,  722,  723,  724,  725,  726,  727,  728,  729,\n",
       "        730,  731,  732,  733,  734,  735,  736,  737,  738,  739,  740,\n",
       "        741,  742,  743,  744,  745,  746,  747,  748,  749,  750,  751,\n",
       "        752,  753,  754,  755,  756,  757,  758,  759,  760,  761,  762,\n",
       "        763,  764,  765,  766,  767,  768,  769,  770,  771,  772,  773,\n",
       "        774,  775,  776,  777,  778,  779,  780,  781,  782,  783,  784,\n",
       "        785,  786,  787,  788,  789,  790,  791,  792,  793,  794,  795,\n",
       "        796,  797,  798,  799,  800,  801,  802,  803,  804,  805,  806,\n",
       "        807,  808,  809,  810,  811,  812,  813,  814,  815,  816,  817,\n",
       "        818,  819,  820,  821,  822,  823,  824,  825,  826,  827,  828,\n",
       "        829,  830,  831,  832,  833,  834,  835,  836,  837,  838,  839,\n",
       "        840,  841,  842,  843,  844,  845,  846,  847,  848,  849,  850,\n",
       "        851,  852,  853,  854,  855,  856,  857,  858,  859,  860,  861,\n",
       "        862,  863,  864,  865,  866,  867,  868,  869,  870,  871,  872,\n",
       "        873,  874,  875,  876,  877,  878,  879,  880,  881,  882,  883,\n",
       "        884,  885,  886,  887,  888,  889,  890,  891,  892,  893,  894,\n",
       "        895,  896,  897,  898,  899,  900,  901,  902,  903,  904,  905,\n",
       "        906,  907,  908,  909,  910,  911,  912,  913,  914,  915,  916,\n",
       "        917,  918,  919,  920,  921,  922,  923,  924,  925,  926,  927,\n",
       "        928,  929,  930,  931,  932,  933,  934,  935,  936,  937,  938,\n",
       "        939,  940,  941,  942,  943,  944,  945,  946,  947,  948,  949,\n",
       "        950,  951,  952,  953,  954,  955,  956,  957,  958,  959,  960,\n",
       "        961,  962,  963,  964,  965,  966,  967,  968,  969,  970,  971,\n",
       "        972,  973,  974,  975,  976,  977,  978,  979,  980,  981,  982,\n",
       "        983,  984,  985,  986,  987,  988,  989,  990,  991,  992,  993,\n",
       "        994,  995,  996,  997,  998,  999, 1000,  611,  612,  613,  614,\n",
       "        615,  616,  617,  618,  619])"
      ]
     },
     "execution_count": 61,
     "metadata": {},
     "output_type": "execute_result"
    }
   ],
   "source": [
    "data3[\"instant\"].unique()"
   ]
  },
  {
   "cell_type": "code",
   "execution_count": 62,
   "metadata": {},
   "outputs": [],
   "source": [
    "data3.drop(columns = [\"season\",\"yr\",\"holiday\",\"temp\",\"mnth\",\"cnt\",\"instant\"],axis =1,inplace = True)"
   ]
  },
  {
   "cell_type": "code",
   "execution_count": 63,
   "metadata": {},
   "outputs": [
    {
     "data": {
      "text/plain": [
       "(390, 9)"
      ]
     },
     "execution_count": 63,
     "metadata": {},
     "output_type": "execute_result"
    }
   ],
   "source": [
    "data3.shape"
   ]
  },
  {
   "cell_type": "code",
   "execution_count": 64,
   "metadata": {},
   "outputs": [
    {
     "data": {
      "text/html": [
       "<div>\n",
       "<style scoped>\n",
       "    .dataframe tbody tr th:only-of-type {\n",
       "        vertical-align: middle;\n",
       "    }\n",
       "\n",
       "    .dataframe tbody tr th {\n",
       "        vertical-align: top;\n",
       "    }\n",
       "\n",
       "    .dataframe thead th {\n",
       "        text-align: right;\n",
       "    }\n",
       "</style>\n",
       "<table border=\"1\" class=\"dataframe\">\n",
       "  <thead>\n",
       "    <tr style=\"text-align: right;\">\n",
       "      <th></th>\n",
       "      <th>dteday</th>\n",
       "      <th>hr</th>\n",
       "      <th>weekday</th>\n",
       "      <th>weathersit</th>\n",
       "      <th>atemp</th>\n",
       "      <th>hum</th>\n",
       "      <th>windspeed</th>\n",
       "      <th>casual</th>\n",
       "      <th>registered</th>\n",
       "    </tr>\n",
       "  </thead>\n",
       "  <tbody>\n",
       "    <tr>\n",
       "      <th>0</th>\n",
       "      <td>29-01-2011</td>\n",
       "      <td>1</td>\n",
       "      <td>6</td>\n",
       "      <td>1</td>\n",
       "      <td>0.2273</td>\n",
       "      <td>0.64</td>\n",
       "      <td>0.1940</td>\n",
       "      <td>0</td>\n",
       "      <td>20</td>\n",
       "    </tr>\n",
       "    <tr>\n",
       "      <th>1</th>\n",
       "      <td>29-01-2011</td>\n",
       "      <td>2</td>\n",
       "      <td>6</td>\n",
       "      <td>1</td>\n",
       "      <td>0.2273</td>\n",
       "      <td>0.64</td>\n",
       "      <td>0.1642</td>\n",
       "      <td>0</td>\n",
       "      <td>15</td>\n",
       "    </tr>\n",
       "    <tr>\n",
       "      <th>2</th>\n",
       "      <td>29-01-2011</td>\n",
       "      <td>3</td>\n",
       "      <td>6</td>\n",
       "      <td>1</td>\n",
       "      <td>0.2121</td>\n",
       "      <td>0.64</td>\n",
       "      <td>0.1343</td>\n",
       "      <td>3</td>\n",
       "      <td>5</td>\n",
       "    </tr>\n",
       "    <tr>\n",
       "      <th>3</th>\n",
       "      <td>29-01-2011</td>\n",
       "      <td>4</td>\n",
       "      <td>6</td>\n",
       "      <td>1</td>\n",
       "      <td>0.1818</td>\n",
       "      <td>0.69</td>\n",
       "      <td>0.1045</td>\n",
       "      <td>1</td>\n",
       "      <td>2</td>\n",
       "    </tr>\n",
       "    <tr>\n",
       "      <th>4</th>\n",
       "      <td>29-01-2011</td>\n",
       "      <td>6</td>\n",
       "      <td>6</td>\n",
       "      <td>1</td>\n",
       "      <td>0.1818</td>\n",
       "      <td>0.64</td>\n",
       "      <td>0.1343</td>\n",
       "      <td>0</td>\n",
       "      <td>2</td>\n",
       "    </tr>\n",
       "    <tr>\n",
       "      <th>...</th>\n",
       "      <td>...</td>\n",
       "      <td>...</td>\n",
       "      <td>...</td>\n",
       "      <td>...</td>\n",
       "      <td>...</td>\n",
       "      <td>...</td>\n",
       "      <td>...</td>\n",
       "      <td>...</td>\n",
       "      <td>...</td>\n",
       "    </tr>\n",
       "    <tr>\n",
       "      <th>385</th>\n",
       "      <td>28-01-2011</td>\n",
       "      <td>20</td>\n",
       "      <td>5</td>\n",
       "      <td>2</td>\n",
       "      <td>0.2273</td>\n",
       "      <td>0.70</td>\n",
       "      <td>0.1940</td>\n",
       "      <td>1</td>\n",
       "      <td>61</td>\n",
       "    </tr>\n",
       "    <tr>\n",
       "      <th>386</th>\n",
       "      <td>28-01-2011</td>\n",
       "      <td>21</td>\n",
       "      <td>5</td>\n",
       "      <td>2</td>\n",
       "      <td>0.2273</td>\n",
       "      <td>0.75</td>\n",
       "      <td>0.1343</td>\n",
       "      <td>1</td>\n",
       "      <td>57</td>\n",
       "    </tr>\n",
       "    <tr>\n",
       "      <th>387</th>\n",
       "      <td>28-01-2011</td>\n",
       "      <td>22</td>\n",
       "      <td>5</td>\n",
       "      <td>1</td>\n",
       "      <td>0.2121</td>\n",
       "      <td>0.65</td>\n",
       "      <td>0.3582</td>\n",
       "      <td>0</td>\n",
       "      <td>26</td>\n",
       "    </tr>\n",
       "    <tr>\n",
       "      <th>388</th>\n",
       "      <td>28-01-2011</td>\n",
       "      <td>23</td>\n",
       "      <td>5</td>\n",
       "      <td>1</td>\n",
       "      <td>0.2273</td>\n",
       "      <td>0.60</td>\n",
       "      <td>0.2239</td>\n",
       "      <td>1</td>\n",
       "      <td>22</td>\n",
       "    </tr>\n",
       "    <tr>\n",
       "      <th>389</th>\n",
       "      <td>29-01-2011</td>\n",
       "      <td>0</td>\n",
       "      <td>6</td>\n",
       "      <td>1</td>\n",
       "      <td>0.1970</td>\n",
       "      <td>0.64</td>\n",
       "      <td>0.3582</td>\n",
       "      <td>2</td>\n",
       "      <td>26</td>\n",
       "    </tr>\n",
       "  </tbody>\n",
       "</table>\n",
       "<p>390 rows × 9 columns</p>\n",
       "</div>"
      ],
      "text/plain": [
       "         dteday  hr  weekday  weathersit   atemp   hum  windspeed  casual  \\\n",
       "0    29-01-2011   1        6           1  0.2273  0.64     0.1940       0   \n",
       "1    29-01-2011   2        6           1  0.2273  0.64     0.1642       0   \n",
       "2    29-01-2011   3        6           1  0.2121  0.64     0.1343       3   \n",
       "3    29-01-2011   4        6           1  0.1818  0.69     0.1045       1   \n",
       "4    29-01-2011   6        6           1  0.1818  0.64     0.1343       0   \n",
       "..          ...  ..      ...         ...     ...   ...        ...     ...   \n",
       "385  28-01-2011  20        5           2  0.2273  0.70     0.1940       1   \n",
       "386  28-01-2011  21        5           2  0.2273  0.75     0.1343       1   \n",
       "387  28-01-2011  22        5           1  0.2121  0.65     0.3582       0   \n",
       "388  28-01-2011  23        5           1  0.2273  0.60     0.2239       1   \n",
       "389  29-01-2011   0        6           1  0.1970  0.64     0.3582       2   \n",
       "\n",
       "     registered  \n",
       "0            20  \n",
       "1            15  \n",
       "2             5  \n",
       "3             2  \n",
       "4             2  \n",
       "..          ...  \n",
       "385          61  \n",
       "386          57  \n",
       "387          26  \n",
       "388          22  \n",
       "389          26  \n",
       "\n",
       "[390 rows x 9 columns]"
      ]
     },
     "execution_count": 64,
     "metadata": {},
     "output_type": "execute_result"
    }
   ],
   "source": [
    "data3"
   ]
  },
  {
   "cell_type": "code",
   "execution_count": 65,
   "metadata": {},
   "outputs": [],
   "source": [
    "data3.rename(columns  = { \"dteday\" : \"Date\",\n",
    "                           \"hr\" : \"hours\",\n",
    "                           \"atemp\" : \"temperature\",\n",
    "                           \"hum\" : \"humidity\"},inplace = True)"
   ]
  },
  {
   "cell_type": "code",
   "execution_count": 66,
   "metadata": {},
   "outputs": [
    {
     "data": {
      "text/plain": [
       "['Date',\n",
       " 'hours',\n",
       " 'weekday',\n",
       " 'weathersit',\n",
       " 'temperature',\n",
       " 'humidity',\n",
       " 'windspeed',\n",
       " 'casual',\n",
       " 'registered']"
      ]
     },
     "execution_count": 66,
     "metadata": {},
     "output_type": "execute_result"
    }
   ],
   "source": [
    "data3.columns.tolist()"
   ]
  },
  {
   "cell_type": "code",
   "execution_count": 67,
   "metadata": {},
   "outputs": [],
   "source": [
    "# datatype changed in date columns \n",
    "\n",
    "data3[\"Date\"] = data3[\"Date\"].astype(\"datetime64[ns]\")"
   ]
  },
  {
   "cell_type": "code",
   "execution_count": 68,
   "metadata": {},
   "outputs": [
    {
     "data": {
      "text/plain": [
       "Date           datetime64[ns]\n",
       "hours                   int64\n",
       "weekday                 int64\n",
       "weathersit              int64\n",
       "temperature           float64\n",
       "humidity              float64\n",
       "windspeed             float64\n",
       "casual                  int64\n",
       "registered              int64\n",
       "dtype: object"
      ]
     },
     "execution_count": 68,
     "metadata": {},
     "output_type": "execute_result"
    }
   ],
   "source": [
    "data3.dtypes"
   ]
  },
  {
   "cell_type": "code",
   "execution_count": 69,
   "metadata": {},
   "outputs": [
    {
     "data": {
      "text/html": [
       "<div>\n",
       "<style scoped>\n",
       "    .dataframe tbody tr th:only-of-type {\n",
       "        vertical-align: middle;\n",
       "    }\n",
       "\n",
       "    .dataframe tbody tr th {\n",
       "        vertical-align: top;\n",
       "    }\n",
       "\n",
       "    .dataframe thead th {\n",
       "        text-align: right;\n",
       "    }\n",
       "</style>\n",
       "<table border=\"1\" class=\"dataframe\">\n",
       "  <thead>\n",
       "    <tr style=\"text-align: right;\">\n",
       "      <th></th>\n",
       "      <th>Date</th>\n",
       "      <th>hours</th>\n",
       "      <th>weekday</th>\n",
       "      <th>weathersit</th>\n",
       "      <th>temperature</th>\n",
       "      <th>humidity</th>\n",
       "      <th>windspeed</th>\n",
       "      <th>casual</th>\n",
       "      <th>registered</th>\n",
       "    </tr>\n",
       "  </thead>\n",
       "  <tbody>\n",
       "    <tr>\n",
       "      <th>0</th>\n",
       "      <td>2011-01-29</td>\n",
       "      <td>1</td>\n",
       "      <td>6</td>\n",
       "      <td>1</td>\n",
       "      <td>0.2273</td>\n",
       "      <td>0.64</td>\n",
       "      <td>0.1940</td>\n",
       "      <td>0</td>\n",
       "      <td>20</td>\n",
       "    </tr>\n",
       "    <tr>\n",
       "      <th>1</th>\n",
       "      <td>2011-01-29</td>\n",
       "      <td>2</td>\n",
       "      <td>6</td>\n",
       "      <td>1</td>\n",
       "      <td>0.2273</td>\n",
       "      <td>0.64</td>\n",
       "      <td>0.1642</td>\n",
       "      <td>0</td>\n",
       "      <td>15</td>\n",
       "    </tr>\n",
       "    <tr>\n",
       "      <th>2</th>\n",
       "      <td>2011-01-29</td>\n",
       "      <td>3</td>\n",
       "      <td>6</td>\n",
       "      <td>1</td>\n",
       "      <td>0.2121</td>\n",
       "      <td>0.64</td>\n",
       "      <td>0.1343</td>\n",
       "      <td>3</td>\n",
       "      <td>5</td>\n",
       "    </tr>\n",
       "    <tr>\n",
       "      <th>3</th>\n",
       "      <td>2011-01-29</td>\n",
       "      <td>4</td>\n",
       "      <td>6</td>\n",
       "      <td>1</td>\n",
       "      <td>0.1818</td>\n",
       "      <td>0.69</td>\n",
       "      <td>0.1045</td>\n",
       "      <td>1</td>\n",
       "      <td>2</td>\n",
       "    </tr>\n",
       "    <tr>\n",
       "      <th>4</th>\n",
       "      <td>2011-01-29</td>\n",
       "      <td>6</td>\n",
       "      <td>6</td>\n",
       "      <td>1</td>\n",
       "      <td>0.1818</td>\n",
       "      <td>0.64</td>\n",
       "      <td>0.1343</td>\n",
       "      <td>0</td>\n",
       "      <td>2</td>\n",
       "    </tr>\n",
       "    <tr>\n",
       "      <th>...</th>\n",
       "      <td>...</td>\n",
       "      <td>...</td>\n",
       "      <td>...</td>\n",
       "      <td>...</td>\n",
       "      <td>...</td>\n",
       "      <td>...</td>\n",
       "      <td>...</td>\n",
       "      <td>...</td>\n",
       "      <td>...</td>\n",
       "    </tr>\n",
       "    <tr>\n",
       "      <th>385</th>\n",
       "      <td>2011-01-28</td>\n",
       "      <td>20</td>\n",
       "      <td>5</td>\n",
       "      <td>2</td>\n",
       "      <td>0.2273</td>\n",
       "      <td>0.70</td>\n",
       "      <td>0.1940</td>\n",
       "      <td>1</td>\n",
       "      <td>61</td>\n",
       "    </tr>\n",
       "    <tr>\n",
       "      <th>386</th>\n",
       "      <td>2011-01-28</td>\n",
       "      <td>21</td>\n",
       "      <td>5</td>\n",
       "      <td>2</td>\n",
       "      <td>0.2273</td>\n",
       "      <td>0.75</td>\n",
       "      <td>0.1343</td>\n",
       "      <td>1</td>\n",
       "      <td>57</td>\n",
       "    </tr>\n",
       "    <tr>\n",
       "      <th>387</th>\n",
       "      <td>2011-01-28</td>\n",
       "      <td>22</td>\n",
       "      <td>5</td>\n",
       "      <td>1</td>\n",
       "      <td>0.2121</td>\n",
       "      <td>0.65</td>\n",
       "      <td>0.3582</td>\n",
       "      <td>0</td>\n",
       "      <td>26</td>\n",
       "    </tr>\n",
       "    <tr>\n",
       "      <th>388</th>\n",
       "      <td>2011-01-28</td>\n",
       "      <td>23</td>\n",
       "      <td>5</td>\n",
       "      <td>1</td>\n",
       "      <td>0.2273</td>\n",
       "      <td>0.60</td>\n",
       "      <td>0.2239</td>\n",
       "      <td>1</td>\n",
       "      <td>22</td>\n",
       "    </tr>\n",
       "    <tr>\n",
       "      <th>389</th>\n",
       "      <td>2011-01-29</td>\n",
       "      <td>0</td>\n",
       "      <td>6</td>\n",
       "      <td>1</td>\n",
       "      <td>0.1970</td>\n",
       "      <td>0.64</td>\n",
       "      <td>0.3582</td>\n",
       "      <td>2</td>\n",
       "      <td>26</td>\n",
       "    </tr>\n",
       "  </tbody>\n",
       "</table>\n",
       "<p>390 rows × 9 columns</p>\n",
       "</div>"
      ],
      "text/plain": [
       "          Date  hours  weekday  weathersit  temperature  humidity  windspeed  \\\n",
       "0   2011-01-29      1        6           1       0.2273      0.64     0.1940   \n",
       "1   2011-01-29      2        6           1       0.2273      0.64     0.1642   \n",
       "2   2011-01-29      3        6           1       0.2121      0.64     0.1343   \n",
       "3   2011-01-29      4        6           1       0.1818      0.69     0.1045   \n",
       "4   2011-01-29      6        6           1       0.1818      0.64     0.1343   \n",
       "..         ...    ...      ...         ...          ...       ...        ...   \n",
       "385 2011-01-28     20        5           2       0.2273      0.70     0.1940   \n",
       "386 2011-01-28     21        5           2       0.2273      0.75     0.1343   \n",
       "387 2011-01-28     22        5           1       0.2121      0.65     0.3582   \n",
       "388 2011-01-28     23        5           1       0.2273      0.60     0.2239   \n",
       "389 2011-01-29      0        6           1       0.1970      0.64     0.3582   \n",
       "\n",
       "     casual  registered  \n",
       "0         0          20  \n",
       "1         0          15  \n",
       "2         3           5  \n",
       "3         1           2  \n",
       "4         0           2  \n",
       "..      ...         ...  \n",
       "385       1          61  \n",
       "386       1          57  \n",
       "387       0          26  \n",
       "388       1          22  \n",
       "389       2          26  \n",
       "\n",
       "[390 rows x 9 columns]"
      ]
     },
     "execution_count": 69,
     "metadata": {},
     "output_type": "execute_result"
    }
   ],
   "source": [
    "data3"
   ]
  },
  {
   "cell_type": "markdown",
   "metadata": {},
   "source": [
    "# Merge Dataframe of Dataset 4 and Dataset 3"
   ]
  },
  {
   "cell_type": "code",
   "execution_count": 70,
   "metadata": {},
   "outputs": [],
   "source": [
    "data5 = pd.merge(data3 ,data4 ,how = \"outer\")"
   ]
  },
  {
   "cell_type": "code",
   "execution_count": 71,
   "metadata": {},
   "outputs": [
    {
     "data": {
      "text/html": [
       "<div>\n",
       "<style scoped>\n",
       "    .dataframe tbody tr th:only-of-type {\n",
       "        vertical-align: middle;\n",
       "    }\n",
       "\n",
       "    .dataframe tbody tr th {\n",
       "        vertical-align: top;\n",
       "    }\n",
       "\n",
       "    .dataframe thead th {\n",
       "        text-align: right;\n",
       "    }\n",
       "</style>\n",
       "<table border=\"1\" class=\"dataframe\">\n",
       "  <thead>\n",
       "    <tr style=\"text-align: right;\">\n",
       "      <th></th>\n",
       "      <th>Date</th>\n",
       "      <th>hours</th>\n",
       "      <th>weekday</th>\n",
       "      <th>weathersit</th>\n",
       "      <th>temperature</th>\n",
       "      <th>humidity</th>\n",
       "      <th>windspeed</th>\n",
       "      <th>casual</th>\n",
       "      <th>registered</th>\n",
       "      <th>holiday</th>\n",
       "    </tr>\n",
       "  </thead>\n",
       "  <tbody>\n",
       "    <tr>\n",
       "      <th>0</th>\n",
       "      <td>2011-01-01</td>\n",
       "      <td>0</td>\n",
       "      <td>6</td>\n",
       "      <td>1</td>\n",
       "      <td>0.2879</td>\n",
       "      <td>0.81</td>\n",
       "      <td>0.0000</td>\n",
       "      <td>3</td>\n",
       "      <td>13</td>\n",
       "      <td>False</td>\n",
       "    </tr>\n",
       "    <tr>\n",
       "      <th>1</th>\n",
       "      <td>2011-01-01</td>\n",
       "      <td>1</td>\n",
       "      <td>6</td>\n",
       "      <td>1</td>\n",
       "      <td>0.2727</td>\n",
       "      <td>0.80</td>\n",
       "      <td>0.0000</td>\n",
       "      <td>8</td>\n",
       "      <td>32</td>\n",
       "      <td>False</td>\n",
       "    </tr>\n",
       "    <tr>\n",
       "      <th>2</th>\n",
       "      <td>2011-01-01</td>\n",
       "      <td>2</td>\n",
       "      <td>6</td>\n",
       "      <td>1</td>\n",
       "      <td>0.2727</td>\n",
       "      <td>0.80</td>\n",
       "      <td>0.0000</td>\n",
       "      <td>5</td>\n",
       "      <td>27</td>\n",
       "      <td>False</td>\n",
       "    </tr>\n",
       "    <tr>\n",
       "      <th>3</th>\n",
       "      <td>2011-01-01</td>\n",
       "      <td>3</td>\n",
       "      <td>6</td>\n",
       "      <td>1</td>\n",
       "      <td>0.2879</td>\n",
       "      <td>0.75</td>\n",
       "      <td>0.0000</td>\n",
       "      <td>3</td>\n",
       "      <td>10</td>\n",
       "      <td>False</td>\n",
       "    </tr>\n",
       "    <tr>\n",
       "      <th>4</th>\n",
       "      <td>2011-01-01</td>\n",
       "      <td>4</td>\n",
       "      <td>6</td>\n",
       "      <td>1</td>\n",
       "      <td>0.2879</td>\n",
       "      <td>0.75</td>\n",
       "      <td>0.0000</td>\n",
       "      <td>0</td>\n",
       "      <td>1</td>\n",
       "      <td>False</td>\n",
       "    </tr>\n",
       "    <tr>\n",
       "      <th>...</th>\n",
       "      <td>...</td>\n",
       "      <td>...</td>\n",
       "      <td>...</td>\n",
       "      <td>...</td>\n",
       "      <td>...</td>\n",
       "      <td>...</td>\n",
       "      <td>...</td>\n",
       "      <td>...</td>\n",
       "      <td>...</td>\n",
       "      <td>...</td>\n",
       "    </tr>\n",
       "    <tr>\n",
       "      <th>995</th>\n",
       "      <td>2011-12-02</td>\n",
       "      <td>19</td>\n",
       "      <td>6</td>\n",
       "      <td>1</td>\n",
       "      <td>0.2727</td>\n",
       "      <td>0.38</td>\n",
       "      <td>0.1642</td>\n",
       "      <td>2</td>\n",
       "      <td>39</td>\n",
       "      <td>NaN</td>\n",
       "    </tr>\n",
       "    <tr>\n",
       "      <th>996</th>\n",
       "      <td>2011-12-02</td>\n",
       "      <td>20</td>\n",
       "      <td>6</td>\n",
       "      <td>1</td>\n",
       "      <td>0.2576</td>\n",
       "      <td>0.41</td>\n",
       "      <td>0.2239</td>\n",
       "      <td>1</td>\n",
       "      <td>39</td>\n",
       "      <td>NaN</td>\n",
       "    </tr>\n",
       "    <tr>\n",
       "      <th>997</th>\n",
       "      <td>2011-12-02</td>\n",
       "      <td>21</td>\n",
       "      <td>6</td>\n",
       "      <td>1</td>\n",
       "      <td>0.3030</td>\n",
       "      <td>0.41</td>\n",
       "      <td>0.0000</td>\n",
       "      <td>9</td>\n",
       "      <td>42</td>\n",
       "      <td>NaN</td>\n",
       "    </tr>\n",
       "    <tr>\n",
       "      <th>998</th>\n",
       "      <td>2011-12-02</td>\n",
       "      <td>22</td>\n",
       "      <td>6</td>\n",
       "      <td>1</td>\n",
       "      <td>0.2576</td>\n",
       "      <td>0.44</td>\n",
       "      <td>0.0896</td>\n",
       "      <td>6</td>\n",
       "      <td>39</td>\n",
       "      <td>NaN</td>\n",
       "    </tr>\n",
       "    <tr>\n",
       "      <th>999</th>\n",
       "      <td>2011-12-02</td>\n",
       "      <td>23</td>\n",
       "      <td>6</td>\n",
       "      <td>1</td>\n",
       "      <td>0.2273</td>\n",
       "      <td>0.51</td>\n",
       "      <td>0.1343</td>\n",
       "      <td>1</td>\n",
       "      <td>31</td>\n",
       "      <td>NaN</td>\n",
       "    </tr>\n",
       "  </tbody>\n",
       "</table>\n",
       "<p>1000 rows × 10 columns</p>\n",
       "</div>"
      ],
      "text/plain": [
       "          Date  hours  weekday  weathersit  temperature  humidity  windspeed  \\\n",
       "0   2011-01-01      0        6           1       0.2879      0.81     0.0000   \n",
       "1   2011-01-01      1        6           1       0.2727      0.80     0.0000   \n",
       "2   2011-01-01      2        6           1       0.2727      0.80     0.0000   \n",
       "3   2011-01-01      3        6           1       0.2879      0.75     0.0000   \n",
       "4   2011-01-01      4        6           1       0.2879      0.75     0.0000   \n",
       "..         ...    ...      ...         ...          ...       ...        ...   \n",
       "995 2011-12-02     19        6           1       0.2727      0.38     0.1642   \n",
       "996 2011-12-02     20        6           1       0.2576      0.41     0.2239   \n",
       "997 2011-12-02     21        6           1       0.3030      0.41     0.0000   \n",
       "998 2011-12-02     22        6           1       0.2576      0.44     0.0896   \n",
       "999 2011-12-02     23        6           1       0.2273      0.51     0.1343   \n",
       "\n",
       "     casual  registered holiday  \n",
       "0         3          13   False  \n",
       "1         8          32   False  \n",
       "2         5          27   False  \n",
       "3         3          10   False  \n",
       "4         0           1   False  \n",
       "..      ...         ...     ...  \n",
       "995       2          39     NaN  \n",
       "996       1          39     NaN  \n",
       "997       9          42     NaN  \n",
       "998       6          39     NaN  \n",
       "999       1          31     NaN  \n",
       "\n",
       "[1000 rows x 10 columns]"
      ]
     },
     "execution_count": 71,
     "metadata": {},
     "output_type": "execute_result"
    }
   ],
   "source": [
    "data5"
   ]
  },
  {
   "cell_type": "code",
   "execution_count": 72,
   "metadata": {},
   "outputs": [
    {
     "data": {
      "text/plain": [
       "0      False\n",
       "1      False\n",
       "2      False\n",
       "3      False\n",
       "4      False\n",
       "       ...  \n",
       "995    False\n",
       "996    False\n",
       "997    False\n",
       "998    False\n",
       "999    False\n",
       "Length: 1000, dtype: bool"
      ]
     },
     "execution_count": 72,
     "metadata": {},
     "output_type": "execute_result"
    }
   ],
   "source": [
    "data5.duplicated()"
   ]
  },
  {
   "cell_type": "code",
   "execution_count": 73,
   "metadata": {},
   "outputs": [],
   "source": [
    "data5.drop_duplicates(inplace = True)"
   ]
  },
  {
   "cell_type": "code",
   "execution_count": 74,
   "metadata": {},
   "outputs": [
    {
     "data": {
      "text/plain": [
       "(1000, 10)"
      ]
     },
     "execution_count": 74,
     "metadata": {},
     "output_type": "execute_result"
    }
   ],
   "source": [
    "data5.shape"
   ]
  },
  {
   "cell_type": "code",
   "execution_count": 75,
   "metadata": {},
   "outputs": [
    {
     "data": {
      "text/plain": [
       "Date             0\n",
       "hours            0\n",
       "weekday          0\n",
       "weathersit       0\n",
       "temperature      0\n",
       "humidity         0\n",
       "windspeed        0\n",
       "casual           0\n",
       "registered       0\n",
       "holiday        390\n",
       "dtype: int64"
      ]
     },
     "execution_count": 75,
     "metadata": {},
     "output_type": "execute_result"
    }
   ],
   "source": [
    "data5.isnull().sum()"
   ]
  },
  {
   "cell_type": "code",
   "execution_count": 76,
   "metadata": {},
   "outputs": [
    {
     "name": "stdout",
     "output_type": "stream",
     "text": [
      "null percentage of each column of data5 : \n",
      "Date            0.0\n",
      "hours           0.0\n",
      "weekday         0.0\n",
      "weathersit      0.0\n",
      "temperature     0.0\n",
      "humidity        0.0\n",
      "windspeed       0.0\n",
      "casual          0.0\n",
      "registered      0.0\n",
      "holiday        39.0\n",
      "dtype: float64\n"
     ]
    }
   ],
   "source": [
    "print(f'null percentage of each column of data5 : \\n{data5.isnull().sum()/ data5.shape[0] * 100}')"
   ]
  },
  {
   "cell_type": "code",
   "execution_count": 77,
   "metadata": {},
   "outputs": [
    {
     "name": "stdout",
     "output_type": "stream",
     "text": [
      "total null percentage of data5 : 39.0 %\n"
     ]
    }
   ],
   "source": [
    "print(f'total null percentage of data5 : {data5.isnull().sum().sum()/data5.shape[0] * 100} %')"
   ]
  },
  {
   "cell_type": "code",
   "execution_count": 78,
   "metadata": {},
   "outputs": [
    {
     "data": {
      "text/plain": [
       "False"
      ]
     },
     "execution_count": 78,
     "metadata": {},
     "output_type": "execute_result"
    }
   ],
   "source": [
    "# null data filled of by mode filling method\n",
    "\n",
    "data5[\"holiday\"].mode()[0]"
   ]
  },
  {
   "cell_type": "code",
   "execution_count": 79,
   "metadata": {},
   "outputs": [],
   "source": [
    "data5[\"holiday\"].fillna(data5[\"holiday\"].mode()[0],inplace = True)"
   ]
  },
  {
   "cell_type": "code",
   "execution_count": 80,
   "metadata": {},
   "outputs": [
    {
     "data": {
      "text/plain": [
       "np.int64(0)"
      ]
     },
     "execution_count": 80,
     "metadata": {},
     "output_type": "execute_result"
    }
   ],
   "source": [
    "data5[\"holiday\"].isnull().sum()"
   ]
  },
  {
   "cell_type": "code",
   "execution_count": 81,
   "metadata": {},
   "outputs": [
    {
     "data": {
      "text/plain": [
       "<Axes: >"
      ]
     },
     "execution_count": 81,
     "metadata": {},
     "output_type": "execute_result"
    },
    {
     "data": {
      "image/png": "[encoded data removed]",
      "text/plain": [
       "<Figure size 640x480 with 2 Axes>"
      ]
     },
     "metadata": {},
     "output_type": "display_data"
    }
   ],
   "source": [
    "# no null data found in dataset 5\n",
    "\n",
    "sns.heatmap(data5.isnull())"
   ]
  },
  {
   "cell_type": "markdown",
   "metadata": {},
   "source": [
    "# final Dataset is Dataset 5"
   ]
  },
  {
   "cell_type": "code",
   "execution_count": 82,
   "metadata": {},
   "outputs": [
    {
     "data": {
      "text/html": [
       "<div>\n",
       "<style scoped>\n",
       "    .dataframe tbody tr th:only-of-type {\n",
       "        vertical-align: middle;\n",
       "    }\n",
       "\n",
       "    .dataframe tbody tr th {\n",
       "        vertical-align: top;\n",
       "    }\n",
       "\n",
       "    .dataframe thead th {\n",
       "        text-align: right;\n",
       "    }\n",
       "</style>\n",
       "<table border=\"1\" class=\"dataframe\">\n",
       "  <thead>\n",
       "    <tr style=\"text-align: right;\">\n",
       "      <th></th>\n",
       "      <th>Date</th>\n",
       "      <th>hours</th>\n",
       "      <th>weekday</th>\n",
       "      <th>weathersit</th>\n",
       "      <th>temperature</th>\n",
       "      <th>humidity</th>\n",
       "      <th>windspeed</th>\n",
       "      <th>casual</th>\n",
       "      <th>registered</th>\n",
       "      <th>holiday</th>\n",
       "    </tr>\n",
       "  </thead>\n",
       "  <tbody>\n",
       "    <tr>\n",
       "      <th>0</th>\n",
       "      <td>2011-01-01</td>\n",
       "      <td>0</td>\n",
       "      <td>6</td>\n",
       "      <td>1</td>\n",
       "      <td>0.2879</td>\n",
       "      <td>0.81</td>\n",
       "      <td>0.0000</td>\n",
       "      <td>3</td>\n",
       "      <td>13</td>\n",
       "      <td>False</td>\n",
       "    </tr>\n",
       "    <tr>\n",
       "      <th>1</th>\n",
       "      <td>2011-01-01</td>\n",
       "      <td>1</td>\n",
       "      <td>6</td>\n",
       "      <td>1</td>\n",
       "      <td>0.2727</td>\n",
       "      <td>0.80</td>\n",
       "      <td>0.0000</td>\n",
       "      <td>8</td>\n",
       "      <td>32</td>\n",
       "      <td>False</td>\n",
       "    </tr>\n",
       "    <tr>\n",
       "      <th>2</th>\n",
       "      <td>2011-01-01</td>\n",
       "      <td>2</td>\n",
       "      <td>6</td>\n",
       "      <td>1</td>\n",
       "      <td>0.2727</td>\n",
       "      <td>0.80</td>\n",
       "      <td>0.0000</td>\n",
       "      <td>5</td>\n",
       "      <td>27</td>\n",
       "      <td>False</td>\n",
       "    </tr>\n",
       "    <tr>\n",
       "      <th>3</th>\n",
       "      <td>2011-01-01</td>\n",
       "      <td>3</td>\n",
       "      <td>6</td>\n",
       "      <td>1</td>\n",
       "      <td>0.2879</td>\n",
       "      <td>0.75</td>\n",
       "      <td>0.0000</td>\n",
       "      <td>3</td>\n",
       "      <td>10</td>\n",
       "      <td>False</td>\n",
       "    </tr>\n",
       "    <tr>\n",
       "      <th>4</th>\n",
       "      <td>2011-01-01</td>\n",
       "      <td>4</td>\n",
       "      <td>6</td>\n",
       "      <td>1</td>\n",
       "      <td>0.2879</td>\n",
       "      <td>0.75</td>\n",
       "      <td>0.0000</td>\n",
       "      <td>0</td>\n",
       "      <td>1</td>\n",
       "      <td>False</td>\n",
       "    </tr>\n",
       "    <tr>\n",
       "      <th>...</th>\n",
       "      <td>...</td>\n",
       "      <td>...</td>\n",
       "      <td>...</td>\n",
       "      <td>...</td>\n",
       "      <td>...</td>\n",
       "      <td>...</td>\n",
       "      <td>...</td>\n",
       "      <td>...</td>\n",
       "      <td>...</td>\n",
       "      <td>...</td>\n",
       "    </tr>\n",
       "    <tr>\n",
       "      <th>995</th>\n",
       "      <td>2011-12-02</td>\n",
       "      <td>19</td>\n",
       "      <td>6</td>\n",
       "      <td>1</td>\n",
       "      <td>0.2727</td>\n",
       "      <td>0.38</td>\n",
       "      <td>0.1642</td>\n",
       "      <td>2</td>\n",
       "      <td>39</td>\n",
       "      <td>False</td>\n",
       "    </tr>\n",
       "    <tr>\n",
       "      <th>996</th>\n",
       "      <td>2011-12-02</td>\n",
       "      <td>20</td>\n",
       "      <td>6</td>\n",
       "      <td>1</td>\n",
       "      <td>0.2576</td>\n",
       "      <td>0.41</td>\n",
       "      <td>0.2239</td>\n",
       "      <td>1</td>\n",
       "      <td>39</td>\n",
       "      <td>False</td>\n",
       "    </tr>\n",
       "    <tr>\n",
       "      <th>997</th>\n",
       "      <td>2011-12-02</td>\n",
       "      <td>21</td>\n",
       "      <td>6</td>\n",
       "      <td>1</td>\n",
       "      <td>0.3030</td>\n",
       "      <td>0.41</td>\n",
       "      <td>0.0000</td>\n",
       "      <td>9</td>\n",
       "      <td>42</td>\n",
       "      <td>False</td>\n",
       "    </tr>\n",
       "    <tr>\n",
       "      <th>998</th>\n",
       "      <td>2011-12-02</td>\n",
       "      <td>22</td>\n",
       "      <td>6</td>\n",
       "      <td>1</td>\n",
       "      <td>0.2576</td>\n",
       "      <td>0.44</td>\n",
       "      <td>0.0896</td>\n",
       "      <td>6</td>\n",
       "      <td>39</td>\n",
       "      <td>False</td>\n",
       "    </tr>\n",
       "    <tr>\n",
       "      <th>999</th>\n",
       "      <td>2011-12-02</td>\n",
       "      <td>23</td>\n",
       "      <td>6</td>\n",
       "      <td>1</td>\n",
       "      <td>0.2273</td>\n",
       "      <td>0.51</td>\n",
       "      <td>0.1343</td>\n",
       "      <td>1</td>\n",
       "      <td>31</td>\n",
       "      <td>False</td>\n",
       "    </tr>\n",
       "  </tbody>\n",
       "</table>\n",
       "<p>1000 rows × 10 columns</p>\n",
       "</div>"
      ],
      "text/plain": [
       "          Date  hours  weekday  weathersit  temperature  humidity  windspeed  \\\n",
       "0   2011-01-01      0        6           1       0.2879      0.81     0.0000   \n",
       "1   2011-01-01      1        6           1       0.2727      0.80     0.0000   \n",
       "2   2011-01-01      2        6           1       0.2727      0.80     0.0000   \n",
       "3   2011-01-01      3        6           1       0.2879      0.75     0.0000   \n",
       "4   2011-01-01      4        6           1       0.2879      0.75     0.0000   \n",
       "..         ...    ...      ...         ...          ...       ...        ...   \n",
       "995 2011-12-02     19        6           1       0.2727      0.38     0.1642   \n",
       "996 2011-12-02     20        6           1       0.2576      0.41     0.2239   \n",
       "997 2011-12-02     21        6           1       0.3030      0.41     0.0000   \n",
       "998 2011-12-02     22        6           1       0.2576      0.44     0.0896   \n",
       "999 2011-12-02     23        6           1       0.2273      0.51     0.1343   \n",
       "\n",
       "     casual  registered  holiday  \n",
       "0         3          13    False  \n",
       "1         8          32    False  \n",
       "2         5          27    False  \n",
       "3         3          10    False  \n",
       "4         0           1    False  \n",
       "..      ...         ...      ...  \n",
       "995       2          39    False  \n",
       "996       1          39    False  \n",
       "997       9          42    False  \n",
       "998       6          39    False  \n",
       "999       1          31    False  \n",
       "\n",
       "[1000 rows x 10 columns]"
      ]
     },
     "execution_count": 82,
     "metadata": {},
     "output_type": "execute_result"
    }
   ],
   "source": [
    "data5"
   ]
  },
  {
   "cell_type": "code",
   "execution_count": 83,
   "metadata": {},
   "outputs": [
    {
     "name": "stdout",
     "output_type": "stream",
     "text": [
      "<class 'pandas.core.frame.DataFrame'>\n",
      "RangeIndex: 1000 entries, 0 to 999\n",
      "Data columns (total 10 columns):\n",
      " #   Column       Non-Null Count  Dtype         \n",
      "---  ------       --------------  -----         \n",
      " 0   Date         1000 non-null   datetime64[ns]\n",
      " 1   hours        1000 non-null   int64         \n",
      " 2   weekday      1000 non-null   int64         \n",
      " 3   weathersit   1000 non-null   int64         \n",
      " 4   temperature  1000 non-null   float64       \n",
      " 5   humidity     1000 non-null   float64       \n",
      " 6   windspeed    1000 non-null   float64       \n",
      " 7   casual       1000 non-null   int64         \n",
      " 8   registered   1000 non-null   int64         \n",
      " 9   holiday      1000 non-null   bool          \n",
      "dtypes: bool(1), datetime64[ns](1), float64(3), int64(5)\n",
      "memory usage: 71.4 KB\n"
     ]
    }
   ],
   "source": [
    "data5.info()"
   ]
  },
  {
   "cell_type": "markdown",
   "metadata": {},
   "source": [
    "# find and remove outlier from Data set 5 using IQR method"
   ]
  },
  {
   "cell_type": "code",
   "execution_count": 84,
   "metadata": {},
   "outputs": [
    {
     "data": {
      "text/plain": [
       "(1000, 10)"
      ]
     },
     "execution_count": 84,
     "metadata": {},
     "output_type": "execute_result"
    }
   ],
   "source": [
    "data5.shape"
   ]
  },
  {
   "cell_type": "code",
   "execution_count": 85,
   "metadata": {},
   "outputs": [
    {
     "data": {
      "text/html": [
       "<div>\n",
       "<style scoped>\n",
       "    .dataframe tbody tr th:only-of-type {\n",
       "        vertical-align: middle;\n",
       "    }\n",
       "\n",
       "    .dataframe tbody tr th {\n",
       "        vertical-align: top;\n",
       "    }\n",
       "\n",
       "    .dataframe thead th {\n",
       "        text-align: right;\n",
       "    }\n",
       "</style>\n",
       "<table border=\"1\" class=\"dataframe\">\n",
       "  <thead>\n",
       "    <tr style=\"text-align: right;\">\n",
       "      <th></th>\n",
       "      <th>Date</th>\n",
       "      <th>hours</th>\n",
       "      <th>weekday</th>\n",
       "      <th>weathersit</th>\n",
       "      <th>temperature</th>\n",
       "      <th>humidity</th>\n",
       "      <th>windspeed</th>\n",
       "      <th>casual</th>\n",
       "      <th>registered</th>\n",
       "    </tr>\n",
       "  </thead>\n",
       "  <tbody>\n",
       "    <tr>\n",
       "      <th>count</th>\n",
       "      <td>1000</td>\n",
       "      <td>1000.000000</td>\n",
       "      <td>1000.000000</td>\n",
       "      <td>1000.000000</td>\n",
       "      <td>1000.000000</td>\n",
       "      <td>1000.000000</td>\n",
       "      <td>1000.000000</td>\n",
       "      <td>1000.000000</td>\n",
       "      <td>1000.000000</td>\n",
       "    </tr>\n",
       "    <tr>\n",
       "      <th>mean</th>\n",
       "      <td>2011-04-13 20:05:16.799999744</td>\n",
       "      <td>11.753000</td>\n",
       "      <td>2.982000</td>\n",
       "      <td>1.480000</td>\n",
       "      <td>0.211793</td>\n",
       "      <td>0.582480</td>\n",
       "      <td>0.194931</td>\n",
       "      <td>4.921000</td>\n",
       "      <td>53.383000</td>\n",
       "    </tr>\n",
       "    <tr>\n",
       "      <th>min</th>\n",
       "      <td>2011-01-01 00:00:00</td>\n",
       "      <td>0.000000</td>\n",
       "      <td>0.000000</td>\n",
       "      <td>1.000000</td>\n",
       "      <td>0.000000</td>\n",
       "      <td>0.210000</td>\n",
       "      <td>0.000000</td>\n",
       "      <td>0.000000</td>\n",
       "      <td>0.000000</td>\n",
       "    </tr>\n",
       "    <tr>\n",
       "      <th>25%</th>\n",
       "      <td>2011-01-22 00:00:00</td>\n",
       "      <td>6.000000</td>\n",
       "      <td>1.000000</td>\n",
       "      <td>1.000000</td>\n",
       "      <td>0.166700</td>\n",
       "      <td>0.440000</td>\n",
       "      <td>0.104500</td>\n",
       "      <td>0.000000</td>\n",
       "      <td>15.000000</td>\n",
       "    </tr>\n",
       "    <tr>\n",
       "      <th>50%</th>\n",
       "      <td>2011-02-02 00:00:00</td>\n",
       "      <td>12.000000</td>\n",
       "      <td>3.000000</td>\n",
       "      <td>1.000000</td>\n",
       "      <td>0.212100</td>\n",
       "      <td>0.550000</td>\n",
       "      <td>0.164200</td>\n",
       "      <td>3.000000</td>\n",
       "      <td>46.000000</td>\n",
       "    </tr>\n",
       "    <tr>\n",
       "      <th>75%</th>\n",
       "      <td>2011-07-02 00:00:00</td>\n",
       "      <td>18.000000</td>\n",
       "      <td>5.000000</td>\n",
       "      <td>2.000000</td>\n",
       "      <td>0.257600</td>\n",
       "      <td>0.700000</td>\n",
       "      <td>0.283600</td>\n",
       "      <td>6.000000</td>\n",
       "      <td>74.000000</td>\n",
       "    </tr>\n",
       "    <tr>\n",
       "      <th>max</th>\n",
       "      <td>2011-12-02 00:00:00</td>\n",
       "      <td>23.000000</td>\n",
       "      <td>6.000000</td>\n",
       "      <td>4.000000</td>\n",
       "      <td>0.454500</td>\n",
       "      <td>1.000000</td>\n",
       "      <td>0.582100</td>\n",
       "      <td>62.000000</td>\n",
       "      <td>247.000000</td>\n",
       "    </tr>\n",
       "    <tr>\n",
       "      <th>std</th>\n",
       "      <td>NaN</td>\n",
       "      <td>6.899101</td>\n",
       "      <td>2.091423</td>\n",
       "      <td>0.651171</td>\n",
       "      <td>0.076295</td>\n",
       "      <td>0.187977</td>\n",
       "      <td>0.129126</td>\n",
       "      <td>7.643899</td>\n",
       "      <td>47.893968</td>\n",
       "    </tr>\n",
       "  </tbody>\n",
       "</table>\n",
       "</div>"
      ],
      "text/plain": [
       "                                Date        hours      weekday   weathersit  \\\n",
       "count                           1000  1000.000000  1000.000000  1000.000000   \n",
       "mean   2011-04-13 20:05:16.799999744    11.753000     2.982000     1.480000   \n",
       "min              2011-01-01 00:00:00     0.000000     0.000000     1.000000   \n",
       "25%              2011-01-22 00:00:00     6.000000     1.000000     1.000000   \n",
       "50%              2011-02-02 00:00:00    12.000000     3.000000     1.000000   \n",
       "75%              2011-07-02 00:00:00    18.000000     5.000000     2.000000   \n",
       "max              2011-12-02 00:00:00    23.000000     6.000000     4.000000   \n",
       "std                              NaN     6.899101     2.091423     0.651171   \n",
       "\n",
       "       temperature     humidity    windspeed       casual   registered  \n",
       "count  1000.000000  1000.000000  1000.000000  1000.000000  1000.000000  \n",
       "mean      0.211793     0.582480     0.194931     4.921000    53.383000  \n",
       "min       0.000000     0.210000     0.000000     0.000000     0.000000  \n",
       "25%       0.166700     0.440000     0.104500     0.000000    15.000000  \n",
       "50%       0.212100     0.550000     0.164200     3.000000    46.000000  \n",
       "75%       0.257600     0.700000     0.283600     6.000000    74.000000  \n",
       "max       0.454500     1.000000     0.582100    62.000000   247.000000  \n",
       "std       0.076295     0.187977     0.129126     7.643899    47.893968  "
      ]
     },
     "execution_count": 85,
     "metadata": {},
     "output_type": "execute_result"
    }
   ],
   "source": [
    "data5.describe()"
   ]
  },
  {
   "cell_type": "code",
   "execution_count": 86,
   "metadata": {},
   "outputs": [
    {
     "data": {
      "image/png": "[encoded data removed]",
      "text/plain": [
       "<Figure size 2000x1000 with 1 Axes>"
      ]
     },
     "metadata": {},
     "output_type": "display_data"
    }
   ],
   "source": [
    "# outlier show in boxplot\n",
    "\n",
    "plt.figure(figsize=(20,10))\n",
    "sns.boxplot(data = data5 )\n",
    "plt.show()"
   ]
  },
  {
   "cell_type": "code",
   "execution_count": 87,
   "metadata": {},
   "outputs": [
    {
     "data": {
      "image/png": "[encoded data removed]",
      "text/plain": [
       "<Figure size 2000x600 with 8 Axes>"
      ]
     },
     "metadata": {},
     "output_type": "display_data"
    }
   ],
   "source": [
    "data5.plot( kind = \"box\",subplots = True ,sharey = False , figsize = ( 20,6) )\n",
    "\n",
    "plt.show()"
   ]
  },
  {
   "cell_type": "code",
   "execution_count": 88,
   "metadata": {},
   "outputs": [],
   "source": [
    "# remove outlier in dataset\n",
    "\n",
    "def outliers(data,columns) :\n",
    "\n",
    "    q1 = data[columns].quantile(0.25)\n",
    "    q3 = data[columns].quantile(0.75)\n",
    "    IQR = q3 - q1\n",
    "    min_range = q1 - (1.5 * IQR)\n",
    "    max_range = q1 + (1.5 * IQR) \n",
    "    \n",
    "    ls = data.index[ (data[columns] < min_range) | (data[columns] > max_range)]\n",
    "\n",
    "    return ls\n",
    "    "
   ]
  },
  {
   "cell_type": "code",
   "execution_count": 89,
   "metadata": {},
   "outputs": [
    {
     "data": {
      "text/plain": [
       "[9,\n",
       " 10,\n",
       " 11,\n",
       " 12,\n",
       " 13,\n",
       " 14,\n",
       " 15,\n",
       " 16,\n",
       " 18,\n",
       " 19,\n",
       " 20,\n",
       " 21,\n",
       " 22,\n",
       " 109,\n",
       " 110,\n",
       " 116,\n",
       " 189,\n",
       " 190,\n",
       " 191,\n",
       " 192,\n",
       " 193,\n",
       " 194,\n",
       " 195,\n",
       " 213,\n",
       " 216,\n",
       " 218,\n",
       " 247,\n",
       " 249,\n",
       " 250,\n",
       " 251,\n",
       " 252,\n",
       " 253,\n",
       " 254,\n",
       " 255,\n",
       " 256,\n",
       " 257,\n",
       " 297,\n",
       " 331,\n",
       " 332,\n",
       " 333,\n",
       " 334,\n",
       " 335,\n",
       " 422,\n",
       " 425,\n",
       " 426,\n",
       " 453,\n",
       " 458,\n",
       " 459,\n",
       " 460,\n",
       " 461,\n",
       " 463,\n",
       " 464,\n",
       " 465,\n",
       " 467,\n",
       " 468,\n",
       " 469,\n",
       " 470,\n",
       " 472,\n",
       " 473,\n",
       " 474,\n",
       " 475,\n",
       " 494,\n",
       " 495,\n",
       " 496,\n",
       " 497,\n",
       " 498,\n",
       " 516,\n",
       " 517,\n",
       " 518,\n",
       " 519,\n",
       " 520,\n",
       " 521,\n",
       " 522,\n",
       " 523,\n",
       " 524,\n",
       " 525,\n",
       " 526,\n",
       " 527,\n",
       " 528,\n",
       " 529,\n",
       " 530,\n",
       " 531,\n",
       " 642,\n",
       " 709,\n",
       " 710,\n",
       " 711,\n",
       " 712,\n",
       " 713,\n",
       " 714,\n",
       " 755,\n",
       " 756,\n",
       " 757,\n",
       " 758,\n",
       " 759,\n",
       " 760,\n",
       " 761,\n",
       " 762,\n",
       " 763,\n",
       " 764,\n",
       " 765,\n",
       " 767,\n",
       " 792,\n",
       " 793,\n",
       " 945,\n",
       " 947,\n",
       " 948,\n",
       " 990,\n",
       " 10,\n",
       " 11,\n",
       " 12,\n",
       " 13,\n",
       " 14,\n",
       " 15,\n",
       " 16,\n",
       " 17,\n",
       " 20,\n",
       " 22,\n",
       " 23,\n",
       " 105,\n",
       " 106,\n",
       " 107,\n",
       " 108,\n",
       " 109,\n",
       " 110,\n",
       " 111,\n",
       " 112,\n",
       " 113,\n",
       " 129,\n",
       " 130,\n",
       " 131,\n",
       " 132,\n",
       " 133,\n",
       " 134,\n",
       " 135,\n",
       " 136,\n",
       " 137,\n",
       " 154,\n",
       " 155,\n",
       " 156,\n",
       " 157,\n",
       " 190,\n",
       " 193,\n",
       " 214,\n",
       " 237,\n",
       " 242,\n",
       " 260,\n",
       " 261,\n",
       " 262,\n",
       " 263,\n",
       " 264,\n",
       " 282,\n",
       " 283,\n",
       " 284,\n",
       " 285,\n",
       " 286,\n",
       " 306,\n",
       " 326,\n",
       " 329,\n",
       " 330,\n",
       " 331,\n",
       " 332,\n",
       " 333,\n",
       " 334,\n",
       " 336,\n",
       " 337,\n",
       " 380,\n",
       " 399,\n",
       " 401,\n",
       " 402,\n",
       " 403,\n",
       " 422,\n",
       " 423,\n",
       " 424,\n",
       " 425,\n",
       " 426,\n",
       " 468,\n",
       " 469,\n",
       " 470,\n",
       " 472,\n",
       " 475,\n",
       " 478,\n",
       " 496,\n",
       " 513,\n",
       " 514,\n",
       " 515,\n",
       " 516,\n",
       " 517,\n",
       " 518,\n",
       " 519,\n",
       " 520,\n",
       " 521,\n",
       " 522,\n",
       " 523,\n",
       " 524,\n",
       " 544,\n",
       " 545,\n",
       " 546,\n",
       " 548,\n",
       " 549,\n",
       " 551,\n",
       " 592,\n",
       " 593,\n",
       " 595,\n",
       " 596,\n",
       " 597,\n",
       " 617,\n",
       " 620,\n",
       " 637,\n",
       " 640,\n",
       " 662,\n",
       " 663,\n",
       " 665,\n",
       " 667,\n",
       " 686,\n",
       " 687,\n",
       " 689,\n",
       " 707,\n",
       " 708,\n",
       " 709,\n",
       " 710,\n",
       " 711,\n",
       " 712,\n",
       " 713,\n",
       " 714,\n",
       " 715,\n",
       " 728,\n",
       " 730,\n",
       " 731,\n",
       " 755,\n",
       " 757,\n",
       " 760,\n",
       " 782,\n",
       " 832,\n",
       " 941,\n",
       " 943,\n",
       " 944,\n",
       " 945,\n",
       " 946,\n",
       " 947,\n",
       " 986,\n",
       " 987,\n",
       " 988,\n",
       " 989,\n",
       " 990,\n",
       " 991,\n",
       " 992,\n",
       " 993,\n",
       " 31,\n",
       " 32,\n",
       " 40,\n",
       " 41,\n",
       " 42,\n",
       " 55,\n",
       " 56,\n",
       " 64,\n",
       " 65,\n",
       " 78,\n",
       " 79,\n",
       " 87,\n",
       " 88,\n",
       " 109,\n",
       " 171,\n",
       " 172,\n",
       " 185,\n",
       " 186,\n",
       " 194,\n",
       " 195,\n",
       " 196,\n",
       " 209,\n",
       " 210,\n",
       " 218,\n",
       " 219,\n",
       " 220,\n",
       " 221,\n",
       " 233,\n",
       " 234,\n",
       " 242,\n",
       " 243,\n",
       " 302,\n",
       " 311,\n",
       " 312,\n",
       " 325,\n",
       " 326,\n",
       " 334,\n",
       " 335,\n",
       " 336,\n",
       " 372,\n",
       " 381,\n",
       " 382,\n",
       " 424,\n",
       " 426,\n",
       " 442,\n",
       " 443,\n",
       " 451,\n",
       " 452,\n",
       " 453,\n",
       " 489,\n",
       " 490,\n",
       " 498,\n",
       " 499,\n",
       " 518,\n",
       " 519,\n",
       " 520,\n",
       " 542,\n",
       " 551,\n",
       " 552,\n",
       " 565,\n",
       " 566,\n",
       " 574,\n",
       " 575,\n",
       " 577,\n",
       " 588,\n",
       " 597,\n",
       " 598,\n",
       " 599,\n",
       " 611,\n",
       " 612,\n",
       " 620,\n",
       " 621,\n",
       " 634,\n",
       " 635,\n",
       " 643,\n",
       " 644,\n",
       " 645,\n",
       " 681,\n",
       " 682,\n",
       " 690,\n",
       " 691,\n",
       " 692,\n",
       " 709,\n",
       " 710,\n",
       " 711,\n",
       " 712,\n",
       " 713,\n",
       " 728,\n",
       " 729,\n",
       " 737,\n",
       " 738,\n",
       " 752,\n",
       " 753,\n",
       " 761,\n",
       " 762,\n",
       " 763,\n",
       " 800,\n",
       " 801,\n",
       " 809,\n",
       " 810,\n",
       " 847,\n",
       " 848,\n",
       " 856,\n",
       " 857,\n",
       " 871,\n",
       " 880,\n",
       " 881,\n",
       " 894,\n",
       " 895,\n",
       " 903,\n",
       " 904,\n",
       " 905,\n",
       " 916,\n",
       " 917,\n",
       " 925,\n",
       " 938,\n",
       " 939,\n",
       " 946,\n",
       " 947,\n",
       " 948,\n",
       " 960,\n",
       " 969,\n",
       " 970,\n",
       " 991,\n",
       " 993]"
      ]
     },
     "execution_count": 89,
     "metadata": {},
     "output_type": "execute_result"
    }
   ],
   "source": [
    "index_list = []\n",
    "\n",
    "for col in data5[[\"temperature\",\"casual\",\"registered\"]] :\n",
    "    index_list.extend(outliers(data5,col))\n",
    "\n",
    "index_list\n"
   ]
  },
  {
   "cell_type": "code",
   "execution_count": 90,
   "metadata": {},
   "outputs": [],
   "source": [
    "def remove_outliers(data,ls) :\n",
    "     ls = sorted(set(ls))\n",
    "     data = data.drop(ls)\n",
    "     return data"
   ]
  },
  {
   "cell_type": "code",
   "execution_count": 91,
   "metadata": {},
   "outputs": [],
   "source": [
    "data_clened = remove_outliers(data5 , index_list)"
   ]
  },
  {
   "cell_type": "code",
   "execution_count": 92,
   "metadata": {},
   "outputs": [
    {
     "data": {
      "text/plain": [
       "(708, 10)"
      ]
     },
     "execution_count": 92,
     "metadata": {},
     "output_type": "execute_result"
    }
   ],
   "source": [
    "data_clened .shape"
   ]
  },
  {
   "cell_type": "code",
   "execution_count": 93,
   "metadata": {},
   "outputs": [
    {
     "data": {
      "image/png": "[encoded data removed]",
      "text/plain": [
       "<Figure size 2500x1000 with 8 Axes>"
      ]
     },
     "metadata": {},
     "output_type": "display_data"
    }
   ],
   "source": [
    "data_clened.plot( kind = \"box\",subplots = True ,sharey = False , figsize = ( 25,10) )\n",
    "plt.show()"
   ]
  },
  {
   "cell_type": "code",
   "execution_count": 94,
   "metadata": {},
   "outputs": [
    {
     "data": {
      "text/plain": [
       "<Axes: xlabel='registered'>"
      ]
     },
     "execution_count": 94,
     "metadata": {},
     "output_type": "execute_result"
    },
    {
     "data": {
      "image/png": "[encoded data removed]",
      "text/plain": [
       "<Figure size 640x480 with 1 Axes>"
      ]
     },
     "metadata": {},
     "output_type": "display_data"
    }
   ],
   "source": [
    "sns.boxplot(x = \"registered\" , data = data_clened)"
   ]
  },
  {
   "cell_type": "code",
   "execution_count": 95,
   "metadata": {},
   "outputs": [],
   "source": [
    "data_clened.to_csv(\"data5.csv\",index = False)"
   ]
  },
  {
   "cell_type": "markdown",
   "metadata": {},
   "source": [
    "# Measure of shape and check skewness"
   ]
  },
  {
   "cell_type": "code",
   "execution_count": 96,
   "metadata": {},
   "outputs": [
    {
     "data": {
      "text/plain": [
       "Index(['Date', 'hours', 'weekday', 'weathersit', 'temperature', 'humidity',\n",
       "       'windspeed', 'casual', 'registered', 'holiday'],\n",
       "      dtype='object')"
      ]
     },
     "execution_count": 96,
     "metadata": {},
     "output_type": "execute_result"
    }
   ],
   "source": [
    "data_clened.columns"
   ]
  },
  {
   "cell_type": "code",
   "execution_count": 97,
   "metadata": {},
   "outputs": [
    {
     "data": {
      "image/png": "[encoded data removed]",
      "text/plain": [
       "<Figure size 2000x1500 with 9 Axes>"
      ]
     },
     "metadata": {},
     "output_type": "display_data"
    }
   ],
   "source": [
    "data_clened.hist(figsize = (20,15))\n",
    "\n",
    "plt.show()"
   ]
  },
  {
   "cell_type": "code",
   "execution_count": 98,
   "metadata": {},
   "outputs": [
    {
     "data": {
      "text/plain": [
       "hours          0.162631\n",
       "weekday       -0.008666\n",
       "weathersit     1.025246\n",
       "temperature   -0.304513\n",
       "humidity       0.374288\n",
       "windspeed      0.529917\n",
       "casual         1.049243\n",
       "registered     0.502220\n",
       "dtype: float64"
      ]
     },
     "execution_count": 98,
     "metadata": {},
     "output_type": "execute_result"
    }
   ],
   "source": [
    "data_clened[[\"hours\",\"weekday\",\"weathersit\",\"temperature\",\"humidity\",\"windspeed\",\"casual\",\"registered\"]].skew()"
   ]
  },
  {
   "cell_type": "code",
   "execution_count": 99,
   "metadata": {},
   "outputs": [],
   "source": [
    "a = data_clened[[\"hours\",\"weekday\",\"weathersit\",\"temperature\",\"humidity\",\"windspeed\",\"casual\",\"registered\"]].mean()"
   ]
  },
  {
   "cell_type": "code",
   "execution_count": 100,
   "metadata": {},
   "outputs": [],
   "source": [
    "b = data_clened[[\"hours\",\"weekday\",\"weathersit\",\"temperature\",\"humidity\",\"windspeed\",\"casual\",\"registered\"]].median()"
   ]
  },
  {
   "cell_type": "code",
   "execution_count": 101,
   "metadata": {},
   "outputs": [],
   "source": [
    "c = data_clened[[\"hours\",\"weekday\",\"weathersit\",\"temperature\",\"humidity\",\"windspeed\",\"casual\",\"registered\"]].mode()"
   ]
  },
  {
   "cell_type": "code",
   "execution_count": 102,
   "metadata": {},
   "outputs": [
    {
     "data": {
      "text/plain": [
       "(hours          11.042373\n",
       " weekday         3.022599\n",
       " weathersit      1.505650\n",
       " temperature     0.193510\n",
       " humidity        0.603686\n",
       " windspeed       0.187797\n",
       " casual          2.265537\n",
       " registered     35.001412\n",
       " dtype: float64,\n",
       " hours          10.0000\n",
       " weekday         3.0000\n",
       " weathersit      1.0000\n",
       " temperature     0.1970\n",
       " humidity        0.5900\n",
       " windspeed       0.1642\n",
       " casual          1.0000\n",
       " registered     32.5000\n",
       " dtype: float64,\n",
       "    hours  weekday  weathersit  temperature  humidity  windspeed  casual  \\\n",
       " 0    7.0      6.0         1.0       0.1970      0.93        0.0     0.0   \n",
       " 1    NaN      NaN         NaN       0.2273       NaN        NaN     NaN   \n",
       " \n",
       "    registered  \n",
       " 0         1.0  \n",
       " 1         NaN  )"
      ]
     },
     "execution_count": 102,
     "metadata": {},
     "output_type": "execute_result"
    }
   ],
   "source": [
    "a,b,c"
   ]
  },
  {
   "cell_type": "code",
   "execution_count": 103,
   "metadata": {},
   "outputs": [
    {
     "data": {
      "text/plain": [
       "(708, 10)"
      ]
     },
     "execution_count": 103,
     "metadata": {},
     "output_type": "execute_result"
    }
   ],
   "source": [
    "data_clened.shape"
   ]
  },
  {
   "cell_type": "code",
   "execution_count": 104,
   "metadata": {},
   "outputs": [
    {
     "data": {
      "text/html": [
       "<div>\n",
       "<style scoped>\n",
       "    .dataframe tbody tr th:only-of-type {\n",
       "        vertical-align: middle;\n",
       "    }\n",
       "\n",
       "    .dataframe tbody tr th {\n",
       "        vertical-align: top;\n",
       "    }\n",
       "\n",
       "    .dataframe thead th {\n",
       "        text-align: right;\n",
       "    }\n",
       "</style>\n",
       "<table border=\"1\" class=\"dataframe\">\n",
       "  <thead>\n",
       "    <tr style=\"text-align: right;\">\n",
       "      <th></th>\n",
       "      <th>hours</th>\n",
       "      <th>weekday</th>\n",
       "      <th>weathersit</th>\n",
       "      <th>temperature</th>\n",
       "      <th>humidity</th>\n",
       "      <th>windspeed</th>\n",
       "      <th>casual</th>\n",
       "      <th>registered</th>\n",
       "    </tr>\n",
       "  </thead>\n",
       "  <tbody>\n",
       "    <tr>\n",
       "      <th>0</th>\n",
       "      <td>0</td>\n",
       "      <td>6</td>\n",
       "      <td>1</td>\n",
       "      <td>0.2879</td>\n",
       "      <td>0.81</td>\n",
       "      <td>0.0000</td>\n",
       "      <td>3</td>\n",
       "      <td>13</td>\n",
       "    </tr>\n",
       "    <tr>\n",
       "      <th>1</th>\n",
       "      <td>1</td>\n",
       "      <td>6</td>\n",
       "      <td>1</td>\n",
       "      <td>0.2727</td>\n",
       "      <td>0.80</td>\n",
       "      <td>0.0000</td>\n",
       "      <td>8</td>\n",
       "      <td>32</td>\n",
       "    </tr>\n",
       "    <tr>\n",
       "      <th>2</th>\n",
       "      <td>2</td>\n",
       "      <td>6</td>\n",
       "      <td>1</td>\n",
       "      <td>0.2727</td>\n",
       "      <td>0.80</td>\n",
       "      <td>0.0000</td>\n",
       "      <td>5</td>\n",
       "      <td>27</td>\n",
       "    </tr>\n",
       "    <tr>\n",
       "      <th>3</th>\n",
       "      <td>3</td>\n",
       "      <td>6</td>\n",
       "      <td>1</td>\n",
       "      <td>0.2879</td>\n",
       "      <td>0.75</td>\n",
       "      <td>0.0000</td>\n",
       "      <td>3</td>\n",
       "      <td>10</td>\n",
       "    </tr>\n",
       "    <tr>\n",
       "      <th>4</th>\n",
       "      <td>4</td>\n",
       "      <td>6</td>\n",
       "      <td>1</td>\n",
       "      <td>0.2879</td>\n",
       "      <td>0.75</td>\n",
       "      <td>0.0000</td>\n",
       "      <td>0</td>\n",
       "      <td>1</td>\n",
       "    </tr>\n",
       "    <tr>\n",
       "      <th>...</th>\n",
       "      <td>...</td>\n",
       "      <td>...</td>\n",
       "      <td>...</td>\n",
       "      <td>...</td>\n",
       "      <td>...</td>\n",
       "      <td>...</td>\n",
       "      <td>...</td>\n",
       "      <td>...</td>\n",
       "    </tr>\n",
       "    <tr>\n",
       "      <th>995</th>\n",
       "      <td>19</td>\n",
       "      <td>6</td>\n",
       "      <td>1</td>\n",
       "      <td>0.2727</td>\n",
       "      <td>0.38</td>\n",
       "      <td>0.1642</td>\n",
       "      <td>2</td>\n",
       "      <td>39</td>\n",
       "    </tr>\n",
       "    <tr>\n",
       "      <th>996</th>\n",
       "      <td>20</td>\n",
       "      <td>6</td>\n",
       "      <td>1</td>\n",
       "      <td>0.2576</td>\n",
       "      <td>0.41</td>\n",
       "      <td>0.2239</td>\n",
       "      <td>1</td>\n",
       "      <td>39</td>\n",
       "    </tr>\n",
       "    <tr>\n",
       "      <th>997</th>\n",
       "      <td>21</td>\n",
       "      <td>6</td>\n",
       "      <td>1</td>\n",
       "      <td>0.3030</td>\n",
       "      <td>0.41</td>\n",
       "      <td>0.0000</td>\n",
       "      <td>9</td>\n",
       "      <td>42</td>\n",
       "    </tr>\n",
       "    <tr>\n",
       "      <th>998</th>\n",
       "      <td>22</td>\n",
       "      <td>6</td>\n",
       "      <td>1</td>\n",
       "      <td>0.2576</td>\n",
       "      <td>0.44</td>\n",
       "      <td>0.0896</td>\n",
       "      <td>6</td>\n",
       "      <td>39</td>\n",
       "    </tr>\n",
       "    <tr>\n",
       "      <th>999</th>\n",
       "      <td>23</td>\n",
       "      <td>6</td>\n",
       "      <td>1</td>\n",
       "      <td>0.2273</td>\n",
       "      <td>0.51</td>\n",
       "      <td>0.1343</td>\n",
       "      <td>1</td>\n",
       "      <td>31</td>\n",
       "    </tr>\n",
       "  </tbody>\n",
       "</table>\n",
       "<p>708 rows × 8 columns</p>\n",
       "</div>"
      ],
      "text/plain": [
       "     hours  weekday  weathersit  temperature  humidity  windspeed  casual  \\\n",
       "0        0        6           1       0.2879      0.81     0.0000       3   \n",
       "1        1        6           1       0.2727      0.80     0.0000       8   \n",
       "2        2        6           1       0.2727      0.80     0.0000       5   \n",
       "3        3        6           1       0.2879      0.75     0.0000       3   \n",
       "4        4        6           1       0.2879      0.75     0.0000       0   \n",
       "..     ...      ...         ...          ...       ...        ...     ...   \n",
       "995     19        6           1       0.2727      0.38     0.1642       2   \n",
       "996     20        6           1       0.2576      0.41     0.2239       1   \n",
       "997     21        6           1       0.3030      0.41     0.0000       9   \n",
       "998     22        6           1       0.2576      0.44     0.0896       6   \n",
       "999     23        6           1       0.2273      0.51     0.1343       1   \n",
       "\n",
       "     registered  \n",
       "0            13  \n",
       "1            32  \n",
       "2            27  \n",
       "3            10  \n",
       "4             1  \n",
       "..          ...  \n",
       "995          39  \n",
       "996          39  \n",
       "997          42  \n",
       "998          39  \n",
       "999          31  \n",
       "\n",
       "[708 rows x 8 columns]"
      ]
     },
     "execution_count": 104,
     "metadata": {},
     "output_type": "execute_result"
    }
   ],
   "source": [
    "a = data_clened[[\"hours\",\"weekday\",\"weathersit\",\"temperature\",\"humidity\",\"windspeed\",\"casual\",\"registered\"]]\n",
    "a"
   ]
  },
  {
   "cell_type": "code",
   "execution_count": 105,
   "metadata": {},
   "outputs": [
    {
     "data": {
      "image/png": "[encoded data removed]",
      "text/plain": [
       "<Figure size 500x500 with 1 Axes>"
      ]
     },
     "metadata": {},
     "output_type": "display_data"
    },
    {
     "data": {
      "text/plain": [
       "<Figure size 2000x1500 with 0 Axes>"
      ]
     },
     "metadata": {},
     "output_type": "display_data"
    },
    {
     "data": {
      "image/png": "[encoded data removed]",
      "text/plain": [
       "<Figure size 500x500 with 1 Axes>"
      ]
     },
     "metadata": {},
     "output_type": "display_data"
    },
    {
     "data": {
      "text/plain": [
       "<Figure size 2000x1500 with 0 Axes>"
      ]
     },
     "metadata": {},
     "output_type": "display_data"
    },
    {
     "data": {
      "image/png": "[encoded data removed]",
      "text/plain": [
       "<Figure size 500x500 with 1 Axes>"
      ]
     },
     "metadata": {},
     "output_type": "display_data"
    },
    {
     "data": {
      "text/plain": [
       "<Figure size 2000x1500 with 0 Axes>"
      ]
     },
     "metadata": {},
     "output_type": "display_data"
    },
    {
     "data": {
      "image/png": "[encoded data removed]",
      "text/plain": [
       "<Figure size 500x500 with 1 Axes>"
      ]
     },
     "metadata": {},
     "output_type": "display_data"
    },
    {
     "data": {
      "text/plain": [
       "<Figure size 2000x1500 with 0 Axes>"
      ]
     },
     "metadata": {},
     "output_type": "display_data"
    },
    {
     "data": {
      "image/png": "[encoded data removed]",
      "text/plain": [
       "<Figure size 500x500 with 1 Axes>"
      ]
     },
     "metadata": {},
     "output_type": "display_data"
    },
    {
     "data": {
      "text/plain": [
       "<Figure size 2000x1500 with 0 Axes>"
      ]
     },
     "metadata": {},
     "output_type": "display_data"
    },
    {
     "data": {
      "image/png": "[encoded data removed]",
      "text/plain": [
       "<Figure size 500x500 with 1 Axes>"
      ]
     },
     "metadata": {},
     "output_type": "display_data"
    },
    {
     "data": {
      "text/plain": [
       "<Figure size 2000x1500 with 0 Axes>"
      ]
     },
     "metadata": {},
     "output_type": "display_data"
    },
    {
     "data": {
      "image/png": "[encoded data removed]",
      "text/plain": [
       "<Figure size 500x500 with 1 Axes>"
      ]
     },
     "metadata": {},
     "output_type": "display_data"
    },
    {
     "data": {
      "text/plain": [
       "<Figure size 2000x1500 with 0 Axes>"
      ]
     },
     "metadata": {},
     "output_type": "display_data"
    },
    {
     "data": {
      "image/png": "[encoded data removed]",
      "text/plain": [
       "<Figure size 500x500 with 1 Axes>"
      ]
     },
     "metadata": {},
     "output_type": "display_data"
    },
    {
     "data": {
      "text/plain": [
       "<Figure size 2000x1500 with 0 Axes>"
      ]
     },
     "metadata": {},
     "output_type": "display_data"
    }
   ],
   "source": [
    "for i in a :\n",
    "    sns.displot(data = data_clened , x = i ,kind = \"kde\" , facet_kws = {\"sharey\" : False ,\"sharex\" : False } )\n",
    "    plt.figure(figsize = (20,15))\n",
    "\n"
   ]
  },
  {
   "cell_type": "markdown",
   "metadata": {},
   "source": [
    "# check covariance and corrlation of  Data set 5"
   ]
  },
  {
   "cell_type": "code",
   "execution_count": 106,
   "metadata": {},
   "outputs": [
    {
     "name": "stdout",
     "output_type": "stream",
     "text": [
      "<class 'pandas.core.frame.DataFrame'>\n",
      "RangeIndex: 1000 entries, 0 to 999\n",
      "Data columns (total 10 columns):\n",
      " #   Column       Non-Null Count  Dtype         \n",
      "---  ------       --------------  -----         \n",
      " 0   Date         1000 non-null   datetime64[ns]\n",
      " 1   hours        1000 non-null   int64         \n",
      " 2   weekday      1000 non-null   int64         \n",
      " 3   weathersit   1000 non-null   int64         \n",
      " 4   temperature  1000 non-null   float64       \n",
      " 5   humidity     1000 non-null   float64       \n",
      " 6   windspeed    1000 non-null   float64       \n",
      " 7   casual       1000 non-null   int64         \n",
      " 8   registered   1000 non-null   int64         \n",
      " 9   holiday      1000 non-null   bool          \n",
      "dtypes: bool(1), datetime64[ns](1), float64(3), int64(5)\n",
      "memory usage: 71.4 KB\n"
     ]
    }
   ],
   "source": [
    "data5.info()"
   ]
  },
  {
   "cell_type": "code",
   "execution_count": 107,
   "metadata": {},
   "outputs": [
    {
     "data": {
      "text/html": [
       "<div>\n",
       "<style scoped>\n",
       "    .dataframe tbody tr th:only-of-type {\n",
       "        vertical-align: middle;\n",
       "    }\n",
       "\n",
       "    .dataframe tbody tr th {\n",
       "        vertical-align: top;\n",
       "    }\n",
       "\n",
       "    .dataframe thead th {\n",
       "        text-align: right;\n",
       "    }\n",
       "</style>\n",
       "<table border=\"1\" class=\"dataframe\">\n",
       "  <thead>\n",
       "    <tr style=\"text-align: right;\">\n",
       "      <th></th>\n",
       "      <th>hours</th>\n",
       "      <th>weekday</th>\n",
       "      <th>weathersit</th>\n",
       "      <th>temperature</th>\n",
       "      <th>humidity</th>\n",
       "      <th>windspeed</th>\n",
       "      <th>casual</th>\n",
       "      <th>registered</th>\n",
       "    </tr>\n",
       "  </thead>\n",
       "  <tbody>\n",
       "    <tr>\n",
       "      <th>hours</th>\n",
       "      <td>1.000000</td>\n",
       "      <td>0.007531</td>\n",
       "      <td>-0.055802</td>\n",
       "      <td>0.148514</td>\n",
       "      <td>-0.194853</td>\n",
       "      <td>0.116640</td>\n",
       "      <td>0.204476</td>\n",
       "      <td>0.357042</td>\n",
       "    </tr>\n",
       "    <tr>\n",
       "      <th>weekday</th>\n",
       "      <td>0.007531</td>\n",
       "      <td>1.000000</td>\n",
       "      <td>0.060007</td>\n",
       "      <td>-0.051462</td>\n",
       "      <td>0.062469</td>\n",
       "      <td>-0.056754</td>\n",
       "      <td>-0.047363</td>\n",
       "      <td>0.020505</td>\n",
       "    </tr>\n",
       "    <tr>\n",
       "      <th>weathersit</th>\n",
       "      <td>-0.055802</td>\n",
       "      <td>0.060007</td>\n",
       "      <td>1.000000</td>\n",
       "      <td>0.136909</td>\n",
       "      <td>0.539402</td>\n",
       "      <td>-0.177655</td>\n",
       "      <td>-0.096346</td>\n",
       "      <td>-0.119234</td>\n",
       "    </tr>\n",
       "    <tr>\n",
       "      <th>temperature</th>\n",
       "      <td>0.148514</td>\n",
       "      <td>-0.051462</td>\n",
       "      <td>0.136909</td>\n",
       "      <td>1.000000</td>\n",
       "      <td>0.192282</td>\n",
       "      <td>-0.212198</td>\n",
       "      <td>0.423522</td>\n",
       "      <td>0.138464</td>\n",
       "    </tr>\n",
       "    <tr>\n",
       "      <th>humidity</th>\n",
       "      <td>-0.194853</td>\n",
       "      <td>0.062469</td>\n",
       "      <td>0.539402</td>\n",
       "      <td>0.192282</td>\n",
       "      <td>1.000000</td>\n",
       "      <td>-0.385550</td>\n",
       "      <td>-0.259407</td>\n",
       "      <td>-0.229370</td>\n",
       "    </tr>\n",
       "    <tr>\n",
       "      <th>windspeed</th>\n",
       "      <td>0.116640</td>\n",
       "      <td>-0.056754</td>\n",
       "      <td>-0.177655</td>\n",
       "      <td>-0.212198</td>\n",
       "      <td>-0.385550</td>\n",
       "      <td>1.000000</td>\n",
       "      <td>0.129392</td>\n",
       "      <td>0.090059</td>\n",
       "    </tr>\n",
       "    <tr>\n",
       "      <th>casual</th>\n",
       "      <td>0.204476</td>\n",
       "      <td>-0.047363</td>\n",
       "      <td>-0.096346</td>\n",
       "      <td>0.423522</td>\n",
       "      <td>-0.259407</td>\n",
       "      <td>0.129392</td>\n",
       "      <td>1.000000</td>\n",
       "      <td>0.337706</td>\n",
       "    </tr>\n",
       "    <tr>\n",
       "      <th>registered</th>\n",
       "      <td>0.357042</td>\n",
       "      <td>0.020505</td>\n",
       "      <td>-0.119234</td>\n",
       "      <td>0.138464</td>\n",
       "      <td>-0.229370</td>\n",
       "      <td>0.090059</td>\n",
       "      <td>0.337706</td>\n",
       "      <td>1.000000</td>\n",
       "    </tr>\n",
       "  </tbody>\n",
       "</table>\n",
       "</div>"
      ],
      "text/plain": [
       "                hours   weekday  weathersit  temperature  humidity  windspeed  \\\n",
       "hours        1.000000  0.007531   -0.055802     0.148514 -0.194853   0.116640   \n",
       "weekday      0.007531  1.000000    0.060007    -0.051462  0.062469  -0.056754   \n",
       "weathersit  -0.055802  0.060007    1.000000     0.136909  0.539402  -0.177655   \n",
       "temperature  0.148514 -0.051462    0.136909     1.000000  0.192282  -0.212198   \n",
       "humidity    -0.194853  0.062469    0.539402     0.192282  1.000000  -0.385550   \n",
       "windspeed    0.116640 -0.056754   -0.177655    -0.212198 -0.385550   1.000000   \n",
       "casual       0.204476 -0.047363   -0.096346     0.423522 -0.259407   0.129392   \n",
       "registered   0.357042  0.020505   -0.119234     0.138464 -0.229370   0.090059   \n",
       "\n",
       "               casual  registered  \n",
       "hours        0.204476    0.357042  \n",
       "weekday     -0.047363    0.020505  \n",
       "weathersit  -0.096346   -0.119234  \n",
       "temperature  0.423522    0.138464  \n",
       "humidity    -0.259407   -0.229370  \n",
       "windspeed    0.129392    0.090059  \n",
       "casual       1.000000    0.337706  \n",
       "registered   0.337706    1.000000  "
      ]
     },
     "execution_count": 107,
     "metadata": {},
     "output_type": "execute_result"
    }
   ],
   "source": [
    "x = data5.select_dtypes([\"int64\",\"float64\"]).corr()\n",
    "x"
   ]
  },
  {
   "cell_type": "code",
   "execution_count": 108,
   "metadata": {},
   "outputs": [
    {
     "data": {
      "text/html": [
       "<div>\n",
       "<style scoped>\n",
       "    .dataframe tbody tr th:only-of-type {\n",
       "        vertical-align: middle;\n",
       "    }\n",
       "\n",
       "    .dataframe tbody tr th {\n",
       "        vertical-align: top;\n",
       "    }\n",
       "\n",
       "    .dataframe thead th {\n",
       "        text-align: right;\n",
       "    }\n",
       "</style>\n",
       "<table border=\"1\" class=\"dataframe\">\n",
       "  <thead>\n",
       "    <tr style=\"text-align: right;\">\n",
       "      <th></th>\n",
       "      <th>hours</th>\n",
       "      <th>weekday</th>\n",
       "      <th>weathersit</th>\n",
       "      <th>temperature</th>\n",
       "      <th>humidity</th>\n",
       "      <th>windspeed</th>\n",
       "      <th>casual</th>\n",
       "      <th>registered</th>\n",
       "    </tr>\n",
       "  </thead>\n",
       "  <tbody>\n",
       "    <tr>\n",
       "      <th>hours</th>\n",
       "      <td>47.597589</td>\n",
       "      <td>0.108663</td>\n",
       "      <td>-0.250691</td>\n",
       "      <td>0.078173</td>\n",
       "      <td>-0.252700</td>\n",
       "      <td>0.103909</td>\n",
       "      <td>10.783270</td>\n",
       "      <td>117.975577</td>\n",
       "    </tr>\n",
       "    <tr>\n",
       "      <th>weekday</th>\n",
       "      <td>0.108663</td>\n",
       "      <td>4.374050</td>\n",
       "      <td>0.081722</td>\n",
       "      <td>-0.008212</td>\n",
       "      <td>0.024559</td>\n",
       "      <td>-0.015327</td>\n",
       "      <td>-0.757179</td>\n",
       "      <td>2.053948</td>\n",
       "    </tr>\n",
       "    <tr>\n",
       "      <th>weathersit</th>\n",
       "      <td>-0.250691</td>\n",
       "      <td>0.081722</td>\n",
       "      <td>0.424024</td>\n",
       "      <td>0.006802</td>\n",
       "      <td>0.066026</td>\n",
       "      <td>-0.014938</td>\n",
       "      <td>-0.479560</td>\n",
       "      <td>-3.718559</td>\n",
       "    </tr>\n",
       "    <tr>\n",
       "      <th>temperature</th>\n",
       "      <td>0.078173</td>\n",
       "      <td>-0.008212</td>\n",
       "      <td>0.006802</td>\n",
       "      <td>0.005821</td>\n",
       "      <td>0.002758</td>\n",
       "      <td>-0.002091</td>\n",
       "      <td>0.246996</td>\n",
       "      <td>0.505961</td>\n",
       "    </tr>\n",
       "    <tr>\n",
       "      <th>humidity</th>\n",
       "      <td>-0.252700</td>\n",
       "      <td>0.024559</td>\n",
       "      <td>0.066026</td>\n",
       "      <td>0.002758</td>\n",
       "      <td>0.035335</td>\n",
       "      <td>-0.009358</td>\n",
       "      <td>-0.372737</td>\n",
       "      <td>-2.065015</td>\n",
       "    </tr>\n",
       "    <tr>\n",
       "      <th>windspeed</th>\n",
       "      <td>0.103909</td>\n",
       "      <td>-0.015327</td>\n",
       "      <td>-0.014938</td>\n",
       "      <td>-0.002091</td>\n",
       "      <td>-0.009358</td>\n",
       "      <td>0.016674</td>\n",
       "      <td>0.127713</td>\n",
       "      <td>0.556956</td>\n",
       "    </tr>\n",
       "    <tr>\n",
       "      <th>casual</th>\n",
       "      <td>10.783270</td>\n",
       "      <td>-0.757179</td>\n",
       "      <td>-0.479560</td>\n",
       "      <td>0.246996</td>\n",
       "      <td>-0.372737</td>\n",
       "      <td>0.127713</td>\n",
       "      <td>58.429188</td>\n",
       "      <td>123.632890</td>\n",
       "    </tr>\n",
       "    <tr>\n",
       "      <th>registered</th>\n",
       "      <td>117.975577</td>\n",
       "      <td>2.053948</td>\n",
       "      <td>-3.718559</td>\n",
       "      <td>0.505961</td>\n",
       "      <td>-2.065015</td>\n",
       "      <td>0.556956</td>\n",
       "      <td>123.632890</td>\n",
       "      <td>2293.832143</td>\n",
       "    </tr>\n",
       "  </tbody>\n",
       "</table>\n",
       "</div>"
      ],
      "text/plain": [
       "                  hours   weekday  weathersit  temperature  humidity  \\\n",
       "hours         47.597589  0.108663   -0.250691     0.078173 -0.252700   \n",
       "weekday        0.108663  4.374050    0.081722    -0.008212  0.024559   \n",
       "weathersit    -0.250691  0.081722    0.424024     0.006802  0.066026   \n",
       "temperature    0.078173 -0.008212    0.006802     0.005821  0.002758   \n",
       "humidity      -0.252700  0.024559    0.066026     0.002758  0.035335   \n",
       "windspeed      0.103909 -0.015327   -0.014938    -0.002091 -0.009358   \n",
       "casual        10.783270 -0.757179   -0.479560     0.246996 -0.372737   \n",
       "registered   117.975577  2.053948   -3.718559     0.505961 -2.065015   \n",
       "\n",
       "             windspeed      casual   registered  \n",
       "hours         0.103909   10.783270   117.975577  \n",
       "weekday      -0.015327   -0.757179     2.053948  \n",
       "weathersit   -0.014938   -0.479560    -3.718559  \n",
       "temperature  -0.002091    0.246996     0.505961  \n",
       "humidity     -0.009358   -0.372737    -2.065015  \n",
       "windspeed     0.016674    0.127713     0.556956  \n",
       "casual        0.127713   58.429188   123.632890  \n",
       "registered    0.556956  123.632890  2293.832143  "
      ]
     },
     "execution_count": 108,
     "metadata": {},
     "output_type": "execute_result"
    }
   ],
   "source": [
    "y = data5.select_dtypes([\"int64\",\"float64\"]).cov()\n",
    "y"
   ]
  },
  {
   "cell_type": "code",
   "execution_count": 109,
   "metadata": {},
   "outputs": [
    {
     "data": {
      "image/png": "[encoded data removed]",
      "text/plain": [
       "<Figure size 640x480 with 2 Axes>"
      ]
     },
     "metadata": {},
     "output_type": "display_data"
    }
   ],
   "source": [
    "# correlation graph , range ( -1 to 1 )\n",
    "sns.heatmap(x ,annot= True)\n",
    "plt.show()"
   ]
  },
  {
   "cell_type": "code",
   "execution_count": 110,
   "metadata": {},
   "outputs": [
    {
     "data": {
      "image/png": "[encoded data removed]",
      "text/plain": [
       "<Figure size 640x480 with 2 Axes>"
      ]
     },
     "metadata": {},
     "output_type": "display_data"
    }
   ],
   "source": [
    "# covariance graph\n",
    "sns.heatmap(y , annot = True)\n",
    "plt.show()"
   ]
  },
  {
   "cell_type": "markdown",
   "metadata": {},
   "source": [
    "#                     ================== End of project ================"
   ]
  }
 ],
 "metadata": {
  "kernelspec": {
   "display_name": "Python 3",
   "language": "python",
   "name": "python3"
  },
  "language_info": {
   "codemirror_mode": {
    "name": "ipython",
    "version": 3
   },
   "file_extension": ".py",
   "mimetype": "text/x-python",
   "name": "python",
   "nbconvert_exporter": "python",
   "pygments_lexer": "ipython3",
   "version": "3.12.3"
  }
 },
 "nbformat": 4,
 "nbformat_minor": 2
}
